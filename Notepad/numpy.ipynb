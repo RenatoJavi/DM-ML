{
 "cells": [
  {
   "cell_type": "markdown",
   "source": [
    "# Numpy tutorial"
   ],
   "metadata": {
    "collapsed": false
   }
  },
  {
   "cell_type": "code",
   "execution_count": 32,
   "outputs": [
    {
     "name": "stdout",
     "output_type": "stream",
     "text": [
      "<class 'numpy.ndarray'>\n",
      "(3,)\n",
      "1\n",
      "................\n",
      "<class 'numpy.ndarray'>\n",
      "(3, 3)\n",
      "dimencion 2\n"
     ]
    }
   ],
   "source": [
    "import numpy as np\n",
    "a = np.array([1,2,3])\n",
    "print(type(a))\n",
    "print(a.shape)\n",
    "print(a.ndim)\n",
    "print(\"................\")\n",
    "b = np.array([[1,2,3],[2,2,2],[3,5,7]])\n",
    "print(type(b))\n",
    "print(b.shape)\n",
    "print(f'dimencion',b.ndim)\n",
    "#print(b[1,0],b[2,1],b[3,2])"
   ],
   "metadata": {
    "collapsed": false,
    "ExecuteTime": {
     "end_time": "2023-07-30T22:58:09.340868700Z",
     "start_time": "2023-07-30T22:58:09.297188800Z"
    }
   }
  },
  {
   "cell_type": "markdown",
   "source": [
    "* Operaciones - matrix"
   ],
   "metadata": {
    "collapsed": false
   }
  },
  {
   "cell_type": "code",
   "execution_count": 31,
   "outputs": [
    {
     "name": "stdout",
     "output_type": "stream",
     "text": [
      "[[ 6.  8.]\n",
      " [10. 13.]]\n"
     ]
    }
   ],
   "source": [
    "x = np.array([[1,2],[3,5]], dtype= np.float64)\n",
    "y = np.array([[5,6],[7,8]],dtype= np.float64)\n",
    "print(x+y)"
   ],
   "metadata": {
    "collapsed": false,
    "ExecuteTime": {
     "end_time": "2023-07-30T22:49:36.043025600Z",
     "start_time": "2023-07-30T22:49:36.003843500Z"
    }
   }
  },
  {
   "cell_type": "markdown",
   "source": [
    "* Producto Dot"
   ],
   "metadata": {
    "collapsed": false
   }
  },
  {
   "cell_type": "code",
   "execution_count": 36,
   "outputs": [
    {
     "name": "stdout",
     "output_type": "stream",
     "text": [
      "219\n",
      "219\n",
      "[[19 22]\n",
      " [50 58]]\n",
      "[[19 22]\n",
      " [50 58]]\n"
     ]
    }
   ],
   "source": [
    "x = np.array([[1,2],[3,5]])\n",
    "y = np.array([[5,6],[7,8]])\n",
    "\n",
    "v = np.array([9,10])\n",
    "w = np.array([11,12])\n",
    "\n",
    "# Producto interto de vectores\n",
    "print(v.dot(w))\n",
    "print(np.dot(v,w))\n",
    "# Matrix / vector producto;\n",
    "print(x.dot(y))\n",
    "print(np.dot(x,y))"
   ],
   "metadata": {
    "collapsed": false,
    "ExecuteTime": {
     "end_time": "2023-07-30T23:37:29.600744900Z",
     "start_time": "2023-07-30T23:37:29.579802500Z"
    }
   }
  },
  {
   "cell_type": "markdown",
   "source": [
    "# slicing"
   ],
   "metadata": {
    "collapsed": false
   }
  },
  {
   "cell_type": "code",
   "execution_count": 54,
   "outputs": [
    {
     "name": "stdout",
     "output_type": "stream",
     "text": [
      "[[2 3]\n",
      " [6 7]]\n"
     ]
    }
   ],
   "source": [
    "#\n",
    "a = np.array([[1,2,3,4],[5,6,7,8],[9,10,11,12]])\n",
    "\n",
    "b=a[:2,1:3]\n",
    "print(b)"
   ],
   "metadata": {
    "collapsed": false,
    "ExecuteTime": {
     "end_time": "2023-07-30T23:48:27.848044600Z",
     "start_time": "2023-07-30T23:48:27.831088400Z"
    }
   }
  },
  {
   "cell_type": "markdown",
   "source": [
    "* Indexing"
   ],
   "metadata": {
    "collapsed": false
   }
  },
  {
   "cell_type": "markdown",
   "source": [],
   "metadata": {
    "collapsed": false
   }
  },
  {
   "cell_type": "code",
   "execution_count": 75,
   "outputs": [
    {
     "name": "stdout",
     "output_type": "stream",
     "text": [
      "[1 4 5]\n",
      "5\n",
      "dimencion (3, 2)\n"
     ]
    }
   ],
   "source": [
    "a = np.array([[1,2],[3,4],[5,6]])\n",
    "print(a[[0,1,2],[0,1,0]])\n",
    "print(np.array(a[2,0]))\n",
    "print(f'dimencion',a.shape)"
   ],
   "metadata": {
    "collapsed": false,
    "ExecuteTime": {
     "end_time": "2023-07-31T00:01:57.424519100Z",
     "start_time": "2023-07-31T00:01:57.409559500Z"
    }
   }
  },
  {
   "cell_type": "markdown",
   "source": [
    "* Bool index"
   ],
   "metadata": {
    "collapsed": false
   }
  },
  {
   "cell_type": "code",
   "execution_count": 82,
   "outputs": [
    {
     "name": "stdout",
     "output_type": "stream",
     "text": [
      "[[False  True]\n",
      " [ True  True]\n",
      " [False  True]]\n",
      "[2 3 4 6]\n",
      "[3 4 6]\n"
     ]
    }
   ],
   "source": [
    "a = np.array([[1,2],[3,4],[1,6]])\n",
    "bool_idx =(a>=2)\n",
    "print(bool_idx)\n",
    "print(a[bool_idx])\n",
    "print(a[a>2])"
   ],
   "metadata": {
    "collapsed": false,
    "ExecuteTime": {
     "end_time": "2023-07-31T00:14:08.946449100Z",
     "start_time": "2023-07-31T00:14:08.933484200Z"
    }
   }
  },
  {
   "cell_type": "markdown",
   "source": [
    "* Suma con numpy"
   ],
   "metadata": {
    "collapsed": false
   }
  },
  {
   "cell_type": "code",
   "execution_count": 85,
   "outputs": [
    {
     "name": "stdout",
     "output_type": "stream",
     "text": [
      "17\n",
      "[ 5 12]\n",
      "[3 7 7]\n"
     ]
    }
   ],
   "source": [
    "a = np.array([[1,2],[3,4],[1,6]])\n",
    "print(np.sum(a))\n",
    "print(np.sum(a,axis=0))\n",
    "print(np.sum(a,axis=1))"
   ],
   "metadata": {
    "collapsed": false,
    "ExecuteTime": {
     "end_time": "2023-07-31T00:18:58.444722900Z",
     "start_time": "2023-07-31T00:18:58.421895200Z"
    }
   }
  },
  {
   "cell_type": "markdown",
   "source": [
    "* Reshape"
   ],
   "metadata": {
    "collapsed": false
   }
  },
  {
   "cell_type": "code",
   "execution_count": 109,
   "outputs": [
    {
     "name": "stdout",
     "output_type": "stream",
     "text": [
      "[[0 1]\n",
      " [2 3]\n",
      " [4 5]\n",
      " [6 7]]\n",
      "...............\n",
      "\n",
      "Original! array reshape to 3d  [[[0 1]\n",
      "  [2 3]]\n",
      "\n",
      " [[4 5]\n",
      "  [6 7]]]\n"
     ]
    }
   ],
   "source": [
    "a = np.array([[1,2],[3,4],[1,6]])\n",
    "array = np.arange(8).reshape(4,2)\n",
    "print(array)\n",
    "print(\"...............\")\n",
    "# Construcir 3D array\n",
    "array1= np.arange(8).reshape(2,2,2)\n",
    "print(f'\\nOriginal! array reshape to 3d ',array1)\n"
   ],
   "metadata": {
    "collapsed": false,
    "ExecuteTime": {
     "end_time": "2023-07-31T01:34:50.520607100Z",
     "start_time": "2023-07-31T01:34:50.477537200Z"
    }
   }
  },
  {
   "cell_type": "markdown",
   "source": [
    "* reshaped"
   ],
   "metadata": {
    "collapsed": false
   }
  },
  {
   "cell_type": "code",
   "execution_count": 125,
   "outputs": [
    {
     "name": "stdout",
     "output_type": "stream",
     "text": [
      "Rows: 3\n",
      "(3, 3)\n"
     ]
    }
   ],
   "source": [
    "from  numpy import array, reshape\n",
    "from  numpy import reshape\n",
    "# lista de datos\n",
    "data = [[11,22,3],[33,44,5],[55,66,7]]\n",
    "\n",
    "# array de datos\n",
    "data = array(data)\n",
    "print(\"Rows: %d\" % data.shape[0])\n",
    "print(data.shape)"
   ],
   "metadata": {
    "collapsed": false,
    "ExecuteTime": {
     "end_time": "2023-07-31T12:28:32.512791200Z",
     "start_time": "2023-07-31T12:28:32.461888900Z"
    }
   }
  },
  {
   "cell_type": "markdown",
   "source": [
    "# Tensors 1D,2D,3D"
   ],
   "metadata": {
    "collapsed": false
   }
  },
  {
   "cell_type": "code",
   "execution_count": 126,
   "outputs": [
    {
     "name": "stdout",
     "output_type": "stream",
     "text": [
      "0\n"
     ]
    }
   ],
   "source": [
    "# tensor scalar - OD TENSOR\n",
    "x = np.array(12)\n",
    "print(x.ndim)"
   ],
   "metadata": {
    "collapsed": false,
    "ExecuteTime": {
     "end_time": "2023-07-31T15:51:18.882838300Z",
     "start_time": "2023-07-31T15:51:18.859421100Z"
    }
   }
  },
  {
   "cell_type": "markdown",
   "source": [
    "* Tensor 1D"
   ],
   "metadata": {
    "collapsed": false
   }
  },
  {
   "cell_type": "code",
   "execution_count": 132,
   "outputs": [
    {
     "name": "stdout",
     "output_type": "stream",
     "text": [
      "1\n"
     ]
    }
   ],
   "source": [
    "a= np.array([100,200,300])\n",
    "print(a.ndim)"
   ],
   "metadata": {
    "collapsed": false,
    "ExecuteTime": {
     "end_time": "2023-07-31T16:36:13.177779200Z",
     "start_time": "2023-07-31T16:36:13.159826100Z"
    }
   }
  },
  {
   "cell_type": "markdown",
   "source": [
    "* Tensro 2D\n"
   ],
   "metadata": {
    "collapsed": false
   }
  },
  {
   "cell_type": "code",
   "execution_count": 136,
   "outputs": [
    {
     "name": "stdout",
     "output_type": "stream",
     "text": [
      "2\n"
     ]
    }
   ],
   "source": [
    "a=np.array([[11,22,3],\n",
    "            [33,44,5],\n",
    "           [1,5,7] ])\n",
    "print(a.ndim)"
   ],
   "metadata": {
    "collapsed": false,
    "ExecuteTime": {
     "end_time": "2023-07-31T16:37:21.603247900Z",
     "start_time": "2023-07-31T16:37:21.572384800Z"
    }
   }
  },
  {
   "cell_type": "markdown",
   "source": [
    "* Tensor 3D"
   ],
   "metadata": {
    "collapsed": false
   }
  },
  {
   "cell_type": "code",
   "execution_count": 138,
   "outputs": [
    {
     "name": "stdout",
     "output_type": "stream",
     "text": [
      "3\n"
     ]
    }
   ],
   "source": [
    "a=np.array([\n",
    "                [\n",
    "                    [11,22,3],\n",
    "                    [33,44,5],\n",
    "                    [55,66,7]\n",
    "                ],\n",
    "               [\n",
    "                   [11,22,3],\n",
    "                    [33,44,5],\n",
    "                    [55,66,7]\n",
    "               ],\n",
    "                 [\n",
    "                   [1,22,3],\n",
    "                    [3,44,5],\n",
    "                    [5,66,7]\n",
    "               ],\n",
    "\n",
    "            ])\n",
    "print(a.ndim)"
   ],
   "metadata": {
    "collapsed": false,
    "ExecuteTime": {
     "end_time": "2023-07-31T16:41:19.923791600Z",
     "start_time": "2023-07-31T16:41:19.890644800Z"
    }
   }
  },
  {
   "cell_type": "markdown",
   "source": [
    "* In deep learning , generalmente se manipula tensores entre )D to- 4D"
   ],
   "metadata": {
    "collapsed": false
   }
  },
  {
   "cell_type": "code",
   "execution_count": 141,
   "outputs": [
    {
     "ename": "ImportError",
     "evalue": "cannot import name 'mnist' from 'keras_datasets' (C:\\Users\\JAVIER\\PycharmProjects\\entorno_general_py\\lib\\site-packages\\keras_datasets\\__init__.py)",
     "output_type": "error",
     "traceback": [
      "\u001B[1;31m---------------------------------------------------------------------------\u001B[0m",
      "\u001B[1;31mImportError\u001B[0m                               Traceback (most recent call last)",
      "Cell \u001B[1;32mIn[141], line 1\u001B[0m\n\u001B[1;32m----> 1\u001B[0m \u001B[38;5;28;01mfrom\u001B[39;00m \u001B[38;5;21;01mkeras_datasets\u001B[39;00m \u001B[38;5;28;01mimport\u001B[39;00m mnist\n\u001B[0;32m      2\u001B[0m (train_images, train_labels),(tes_images, test_labels)\u001B[38;5;241m=\u001B[39mmnist\u001B[38;5;241m.\u001B[39mload_data()\n\u001B[0;32m      3\u001B[0m \u001B[38;5;28mprint\u001B[39m(train_images\u001B[38;5;241m.\u001B[39mshape)\n",
      "\u001B[1;31mImportError\u001B[0m: cannot import name 'mnist' from 'keras_datasets' (C:\\Users\\JAVIER\\PycharmProjects\\entorno_general_py\\lib\\site-packages\\keras_datasets\\__init__.py)"
     ]
    }
   ],
   "source": [
    "import keras_datasets as kras\n",
    "from keras_datasets import\n",
    "\n",
    "(train_images, train_labels),(tes_images, test_labels)=mnist.load_data()\n",
    "print(train_images.shape)\n"
   ],
   "metadata": {
    "collapsed": false,
    "ExecuteTime": {
     "end_time": "2023-07-31T17:18:26.800895300Z",
     "start_time": "2023-07-31T17:18:26.766896400Z"
    }
   }
  },
  {
   "cell_type": "markdown",
   "source": [
    "# Casi terminado np"
   ],
   "metadata": {
    "collapsed": false
   }
  }
 ],
 "metadata": {
  "kernelspec": {
   "display_name": "Python 3",
   "language": "python",
   "name": "python3"
  },
  "language_info": {
   "codemirror_mode": {
    "name": "ipython",
    "version": 2
   },
   "file_extension": ".py",
   "mimetype": "text/x-python",
   "name": "python",
   "nbconvert_exporter": "python",
   "pygments_lexer": "ipython2",
   "version": "2.7.6"
  }
 },
 "nbformat": 4,
 "nbformat_minor": 0
}
