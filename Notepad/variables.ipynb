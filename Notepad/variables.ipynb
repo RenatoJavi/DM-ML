{
 "cells": [
  {
   "cell_type": "markdown",
   "source": [
    "# Examples code,general review python"
   ],
   "metadata": {
    "collapsed": false
   }
  },
  {
   "cell_type": "code",
   "execution_count": 193,
   "outputs": [
    {
     "name": "stdout",
     "output_type": "stream",
     "text": [
      "1001005022\n",
      "<class 'str'>\n",
      "<class 'int'>\n"
     ]
    }
   ],
   "source": [
    "dato_ced = input(\"Ingrese cedula\")\n",
    "print(dato_ced)\n",
    "print(type(dato_ced))\n",
    "print(type(int(dato_ced)))"
   ],
   "metadata": {
    "collapsed": false,
    "ExecuteTime": {
     "end_time": "2023-07-21T16:21:36.649584Z",
     "start_time": "2023-07-21T16:21:31.363281400Z"
    }
   }
  },
  {
   "cell_type": "markdown",
   "source": [
    "* Variable booleana"
   ],
   "metadata": {
    "collapsed": false
   }
  },
  {
   "cell_type": "code",
   "execution_count": null,
   "outputs": [],
   "source": [
    "data =('One' == 'Ones')\n",
    "print(format(data))\n",
    "print(type(data))"
   ],
   "metadata": {
    "collapsed": false
   }
  },
  {
   "cell_type": "markdown",
   "source": [
    "* Comparación"
   ],
   "metadata": {
    "collapsed": false
   }
  },
  {
   "cell_type": "code",
   "execution_count": null,
   "outputs": [],
   "source": [
    "val = 7>50\n",
    "print( '{}'.format(val))\n",
    "\n",
    "cadena = 'cadena' +'C'\n",
    "print( '{}'.format(cadena))"
   ],
   "metadata": {
    "collapsed": false
   }
  },
  {
   "cell_type": "markdown",
   "source": [
    "# Structura de control\n",
    "* Comparar 4 números ingresados por teclado"
   ],
   "metadata": {
    "collapsed": false
   }
  },
  {
   "cell_type": "code",
   "execution_count": null,
   "outputs": [],
   "source": [
    "num1 = int(input(\"ingrese  número\"))\n",
    "num2 = int(input(\"ingrese  número\"))\n",
    "num3 = int(input(\"ingrese 1 número\"))\n",
    "\n",
    "if num1>num2 and num1>num3:\n",
    "    print('el num1 {} es el mayor'.format(num1))\n",
    "if num2>num1 and num2>num3:\n",
    "    print('el num2 {} es el mayor'.format(num2))\n",
    "else: print('el num3 {} es el mayor'.format(num3))"
   ],
   "metadata": {
    "collapsed": false
   }
  },
  {
   "cell_type": "markdown",
   "source": [
    "* Lista [ramdom]"
   ],
   "metadata": {
    "collapsed": false
   }
  },
  {
   "cell_type": "code",
   "execution_count": null,
   "outputs": [],
   "source": [
    "import random\n",
    "marca = ('toyota','chevrolet','mazda','datsun','haval','kia','wolsvaguen','nissan','bemtli')\n",
    "aleatorio = random.randint(0,8)\n",
    "\n",
    "print(aleatorio)\n",
    "print(marca[aleatorio])"
   ],
   "metadata": {
    "collapsed": false
   }
  },
  {
   "cell_type": "markdown",
   "source": [
    "* Matriz"
   ],
   "metadata": {
    "collapsed": false
   }
  },
  {
   "cell_type": "code",
   "execution_count": null,
   "outputs": [],
   "source": [
    "\n",
    "import numpy as np\n",
    "\n",
    "#matriz cuadrada de 4x4\n",
    "n=4\n",
    "\n",
    "matrix =np.random.randint(0,10,size=(n,n))\n",
    "print(matrix)\n",
    "print(matrix[3,3])"
   ],
   "metadata": {
    "collapsed": false
   }
  },
  {
   "cell_type": "code",
   "execution_count": null,
   "outputs": [],
   "source": [
    "import numpy as np\n",
    "\n",
    "# Definir el tamaño de la matriz cuadrada (por ejemplo, 3x3)\n",
    "n = 3\n",
    "\n",
    "# Crear una matriz cuadrada con números aleatorios en el rango [0, 9] utilizando NumPy\n",
    "matrix = np.random.randint(0, 10, size=(n, n))\n",
    "\n",
    "# Imprimir la matriz\n",
    "print(matrix)\n"
   ],
   "metadata": {
    "collapsed": false
   }
  },
  {
   "cell_type": "markdown",
   "source": [
    "* Lista de palabras\n"
   ],
   "metadata": {
    "collapsed": false
   }
  },
  {
   "cell_type": "code",
   "execution_count": null,
   "outputs": [],
   "source": [
    "palabras =['hoy','ball','arena','sun','dogs','game','energy','led','motorcicly','dogs','science','sun']\n",
    "agregar = \"bears\"\n",
    "palabras.append(agregar)\n",
    "print(palabras)\n",
    "palabras.sort()\n",
    "print(palabras)\n"
   ],
   "metadata": {
    "collapsed": false
   }
  },
  {
   "cell_type": "markdown",
   "source": [
    "* Eliminar palabras repetidas"
   ],
   "metadata": {
    "collapsed": false
   }
  },
  {
   "cell_type": "code",
   "execution_count": null,
   "outputs": [],
   "source": [
    "\n",
    "noRepetidas=list(set(palabras))\n",
    "print(noRepetidas)"
   ],
   "metadata": {
    "collapsed": false
   }
  },
  {
   "cell_type": "markdown",
   "source": [
    "* Eliminar NA y \"\""
   ],
   "metadata": {
    "collapsed": false
   }
  },
  {
   "cell_type": "code",
   "execution_count": null,
   "outputs": [],
   "source": [
    "import  pandas as pd\n",
    "\n",
    "# Ejemplo de DataFrame con valores NA\n",
    "data = {'A': [10, 2, None, 4, 5,None,\"\"],\n",
    "        'B': [None,6, 2, 3, None, 5,\"\"],\n",
    "        'C': [1, 2,None, 3, 4, 5,\"\"]}\n",
    "\n",
    "\n",
    "df = pd.DataFrame(data)\n",
    "df.replace(\"\",float(\"nan\"),inplace=True)\n",
    "print(df)\n",
    "df.fillna(0,inplace=True)\n",
    "print(df)"
   ],
   "metadata": {
    "collapsed": false
   }
  },
  {
   "cell_type": "markdown",
   "source": [],
   "metadata": {
    "collapsed": false
   }
  },
  {
   "cell_type": "markdown",
   "source": [
    "* Index"
   ],
   "metadata": {
    "collapsed": false
   }
  },
  {
   "cell_type": "code",
   "execution_count": null,
   "outputs": [],
   "source": [
    "numer = [5,8,10,12,10,7,3,5,1,17]\n",
    "ind = numer.index(5)\n",
    "print(ind)\n",
    "numer.reverse()\n",
    "print(format(numer))\n",
    "numer.remove(10)\n",
    "print(format(numer))\n",
    "df=pd.DataFrame(numer)\n",
    "print(f'valor maximo: ',df.max().max())\n",
    "print(f'valor minimo: ',df.min().min())"
   ],
   "metadata": {
    "collapsed": false
   }
  },
  {
   "cell_type": "markdown",
   "source": [
    "# Python Funciones  Modules\n",
    "* Calculo del área del circulo, dado r\n"
   ],
   "metadata": {
    "collapsed": false
   }
  },
  {
   "cell_type": "code",
   "execution_count": 188,
   "outputs": [
    {
     "name": "stdout",
     "output_type": "stream",
     "text": [
      "12.566370614359172\n"
     ]
    }
   ],
   "source": [
    "\n",
    "import math\n",
    "#radio = int(input(\"Ingrese valor del radio\"))\n",
    "\n",
    "def area_circulo(radio):\n",
    "    area= math.pi*radio**2\n",
    "    return area\n",
    "\n",
    "print(area_circulo(2))\n"
   ],
   "metadata": {
    "collapsed": false,
    "ExecuteTime": {
     "end_time": "2023-07-21T16:16:27.432517500Z",
     "start_time": "2023-07-21T16:16:27.402675300Z"
    }
   }
  },
  {
   "cell_type": "code",
   "execution_count": 190,
   "outputs": [
    {
     "name": "stdout",
     "output_type": "stream",
     "text": [
      "El primer disco Nuestro Juramento y fue en 1954\n"
     ]
    }
   ],
   "source": [
    "def jj(album, year):\n",
    "   inf = f\"El primer disco {album} y fue en {year}\"\n",
    "   return inf\n",
    "\n",
    "salida = jj(\"Nuestro Juramento\",\"1954\")\n",
    "\n",
    "print(salida)\n",
    "\n"
   ],
   "metadata": {
    "collapsed": false,
    "ExecuteTime": {
     "end_time": "2023-07-21T16:17:36.115466400Z",
     "start_time": "2023-07-21T16:17:36.075573400Z"
    }
   }
  },
  {
   "cell_type": "markdown",
   "source": [
    "* Especial sintacis  * args"
   ],
   "metadata": {
    "collapsed": false
   }
  },
  {
   "cell_type": "code",
   "execution_count": 192,
   "outputs": [
    {
     "name": "stdout",
     "output_type": "stream",
     "text": [
      "1\n",
      "2\n",
      "3\n",
      "6\n",
      "9.5\n",
      "a\n"
     ]
    }
   ],
   "source": [
    "def add_num(*args):\n",
    "    for j in args:\n",
    "        print(j)\n",
    "add_num(1,2,3,6,9.5,'a')\n"
   ],
   "metadata": {
    "collapsed": false,
    "ExecuteTime": {
     "end_time": "2023-07-21T16:19:28.643945200Z",
     "start_time": "2023-07-21T16:19:28.602057500Z"
    }
   }
  },
  {
   "cell_type": "markdown",
   "source": [
    "* Modules can be thoght as a collection of funtions"
   ],
   "metadata": {
    "collapsed": false
   }
  },
  {
   "cell_type": "markdown",
   "source": [],
   "metadata": {
    "collapsed": false
   }
  },
  {
   "cell_type": "code",
   "execution_count": null,
   "outputs": [],
   "source": [
    "\n",
    "from random import randint\n",
    "for i in range(6):\n",
    "    num = randint(0,8)\n",
    "    print(num)\n"
   ],
   "metadata": {
    "collapsed": false
   }
  },
  {
   "cell_type": "markdown",
   "source": [
    "* Instalar para interactuar con !pip install google-api-python-client"
   ],
   "metadata": {
    "collapsed": false
   }
  },
  {
   "cell_type": "code",
   "execution_count": null,
   "outputs": [],
   "source": [
    "##!pip install google-api-python-client"
   ],
   "metadata": {
    "collapsed": false
   }
  },
  {
   "cell_type": "markdown",
   "source": [
    "* Esepciones"
   ],
   "metadata": {
    "collapsed": false
   }
  },
  {
   "cell_type": "code",
   "execution_count": 180,
   "outputs": [
    {
     "name": "stdout",
     "output_type": "stream",
     "text": [
      "Finalizando el bloque try - except\n",
      "Resultado 1: 9\n",
      "Finalizando el bloque try - except\n",
      "Resultado 2: error, solo se acepta números : can only concatenate str (not \"int\") to str\n"
     ]
    }
   ],
   "source": [
    "def add_num(n1, n2):\n",
    "    resultado = None  # Valor predeterminado antes del bloque try\n",
    "    try:\n",
    "        resultado = n1+n2\n",
    "    except TypeError as e:\n",
    "        resultado = f\"error, solo se acepta números : {e}\"\n",
    "    finally:\n",
    "        print(\"Finalizando el bloque try - except\" )\n",
    "        return resultado\n",
    "\n",
    "resultado1 = add_num(7,2)\n",
    "print(\"Resultado 1:\", resultado1)\n",
    "resultado2 = add_num(\"6\",2)\n",
    "print(\"Resultado 2:\", resultado2)\n"
   ],
   "metadata": {
    "collapsed": false,
    "ExecuteTime": {
     "end_time": "2023-07-21T16:07:07.164111300Z",
     "start_time": "2023-07-21T16:07:07.102279900Z"
    }
   }
  },
  {
   "cell_type": "markdown",
   "source": [
    "# File Handling"
   ],
   "metadata": {
    "collapsed": false
   }
  },
  {
   "cell_type": "code",
   "execution_count": 179,
   "outputs": [
    {
     "name": "stdout",
     "output_type": "stream",
     "text": [
      "Cancion producida en el genero del regueton 2023\n",
      "Latina\n"
     ]
    }
   ],
   "source": [
    "ruta =\"C:\\Repositorio Python\\Dashboards\\WordsMatriz\\palabras\\Lokera.txt\"\n",
    "try:\n",
    "    with open(ruta,\"r\") as archivo:\n",
    "        contenido = archivo.read()\n",
    "        print(contenido)\n",
    "except FileNotFoundError:\n",
    "    print(f\"El archivo '{ruta}' no fue encontrado.\")"
   ],
   "metadata": {
    "collapsed": false,
    "ExecuteTime": {
     "end_time": "2023-07-21T14:56:27.296990Z",
     "start_time": "2023-07-21T14:56:27.236359200Z"
    }
   }
  },
  {
   "cell_type": "code",
   "execution_count": 196,
   "outputs": [
    {
     "name": "stdout",
     "output_type": "stream",
     "text": [
      "Canción producida en el estilo del reguetón 2023\n",
      "Latina\n"
     ]
    }
   ],
   "source": [
    "my_file= open(ruta, \"w\")\n",
    "linea = ['Canción producida en el estilo del reguetón 2023\\n','Latina']\n",
    "my_file.writelines(linea)\n",
    "my_file.close()\n",
    "my_file= open(ruta,\"r\")\n",
    "letraMusica=my_file.read()\n",
    "print(letraMusica)\n",
    "my_file.close()"
   ],
   "metadata": {
    "collapsed": false,
    "ExecuteTime": {
     "end_time": "2023-07-21T16:27:21.144274900Z",
     "start_time": "2023-07-21T16:27:21.104379700Z"
    }
   }
  },
  {
   "cell_type": "code",
   "execution_count": 212,
   "outputs": [
    {
     "name": "stdout",
     "output_type": "stream",
     "text": [
      "Canción producida en el estilo del reguetón 2023\n",
      "Latina\n"
     ]
    }
   ],
   "source": [
    "ruta =\"C:\\Repositorio Python\\Dashboards\\WordsMatriz\\palabras\\lokera.txt\"\n",
    "\n",
    "\n",
    "with open(ruta, 'r') as lib:\n",
    "    print(lib.read())"
   ],
   "metadata": {
    "collapsed": false,
    "ExecuteTime": {
     "end_time": "2023-07-21T16:40:52.951348700Z",
     "start_time": "2023-07-21T16:40:52.912453900Z"
    }
   }
  },
  {
   "cell_type": "markdown",
   "source": [
    "# Diccionario clave | valor"
   ],
   "metadata": {
    "collapsed": false
   }
  },
  {
   "cell_type": "code",
   "execution_count": 232,
   "outputs": [
    {
     "name": "stdout",
     "output_type": "stream",
     "text": [
      "precio de la manzana: 1.5\n",
      "precio de las uvas '2.25'\n",
      "{'manzana': 1.5, 'banana': 1.8, 'naranja': 1.0, 'pina': 2.5, 'uva': 2.25, 'guanabana': 3.5}\n",
      "{'manzana': 1.5, 'naranja': 1.0, 'pina': 2.5, 'uva': 2.25, 'guanabana': 3.5}\n",
      "{'manzana': 1.5, 'naranja': 1.0, 'pina': 2.5, 'uva': 2.25, 'guanabana': 3.5, 'oritos': 0.25}\n",
      "oritos esta en la lista\n",
      "D I C C I O N A R I O\n",
      "'manzana: 1.5'\n",
      "'naranja: 1.0'\n",
      "'pina: 2.5'\n",
      "'uva: 2.25'\n",
      "'guanabana: 3.5'\n",
      "'oritos: 0.25'\n",
      "'papaya: (2, 10)'\n",
      "'tomate: (0, 50)'\n"
     ]
    }
   ],
   "source": [
    "frutas_precio={\n",
    "    \"manzana\":1.5,\n",
    "    \"banana\":1.8,\n",
    "    \"naranja\":1.0,\n",
    "    \"pina\":2.5,\n",
    "    \"uva\": 2.25\n",
    "}\n",
    "print(\"precio de la manzana:\",frutas_precio[\"manzana\"])\n",
    "print(f\"precio de las uvas '{frutas_precio['uva']}'\")\n",
    "frutas_precio['guanabana']=3.50\n",
    "print(frutas_precio)\n",
    "#Eliminar un elemento del diccionario\n",
    "del frutas_precio[\"banana\"]\n",
    "print(frutas_precio)\n",
    "frutas_precio[\"oritos\"]=.25\n",
    "print(frutas_precio)\n",
    "\n",
    "# Verificar si una clave existe en el diccionario\n",
    "if \"oritos\" in frutas_precio:\n",
    "    print(\"oritos esta en la lista\")\n",
    "else:\n",
    "    print(f\"Oritos no esta en la lista '{frutas_precio['oritos']}'\")\n",
    "frutas_precio[\"papaya\"]=2,10\n",
    "frutas_precio[\"tomate\"]=0,50\n",
    "# Recorrer la lista\n",
    "print(\"D I C C I O N A R I O\")\n",
    "for fruta, precio in frutas_precio.items():\n",
    "    print(f\"'{fruta}: {precio}'\")"
   ],
   "metadata": {
    "collapsed": false,
    "ExecuteTime": {
     "end_time": "2023-07-21T17:23:12.391270700Z",
     "start_time": "2023-07-21T17:23:12.359678200Z"
    }
   }
  }
 ],
 "metadata": {
  "kernelspec": {
   "display_name": "Python 3",
   "language": "python",
   "name": "python3"
  },
  "language_info": {
   "codemirror_mode": {
    "name": "ipython",
    "version": 2
   },
   "file_extension": ".py",
   "mimetype": "text/x-python",
   "name": "python",
   "nbconvert_exporter": "python",
   "pygments_lexer": "ipython2",
   "version": "2.7.6"
  }
 },
 "nbformat": 4,
 "nbformat_minor": 0
}
