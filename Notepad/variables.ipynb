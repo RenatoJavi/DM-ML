{
 "cells": [
  {
   "cell_type": "markdown",
   "source": [
    "# Examples code,general review python"
   ],
   "metadata": {
    "collapsed": false
   }
  },
  {
   "cell_type": "code",
   "execution_count": 2,
   "outputs": [
    {
     "name": "stdout",
     "output_type": "stream",
     "text": [
      "1001005022\n",
      "<class 'str'>\n",
      "<class 'int'>\n"
     ]
    }
   ],
   "source": [
    "datos = input(\"ingrese cedula\")\n",
    "print(datos)\n",
    "print(type(datos))\n",
    "datos=int(datos)\n",
    "print(type(datos))"
   ],
   "metadata": {
    "collapsed": false,
    "ExecuteTime": {
     "end_time": "2023-07-20T22:35:14.213586300Z",
     "start_time": "2023-07-20T22:35:09.388191200Z"
    }
   }
  },
  {
   "cell_type": "markdown",
   "source": [
    "* Variable booleana"
   ],
   "metadata": {
    "collapsed": false
   }
  },
  {
   "cell_type": "code",
   "execution_count": 3,
   "outputs": [
    {
     "name": "stdout",
     "output_type": "stream",
     "text": [
      "False\n",
      "<class 'bool'>\n"
     ]
    }
   ],
   "source": [
    "data =('One' == 'Ones')\n",
    "print(format(data))\n",
    "print(type(data))"
   ],
   "metadata": {
    "collapsed": false,
    "ExecuteTime": {
     "end_time": "2023-07-20T22:35:14.214584200Z",
     "start_time": "2023-07-20T22:35:14.150542600Z"
    }
   }
  },
  {
   "cell_type": "markdown",
   "source": [
    "* Comparación"
   ],
   "metadata": {
    "collapsed": false
   }
  },
  {
   "cell_type": "code",
   "execution_count": 4,
   "outputs": [
    {
     "name": "stdout",
     "output_type": "stream",
     "text": [
      "False\n",
      "cadenaC\n"
     ]
    }
   ],
   "source": [
    "val = 7>50\n",
    "print( '{}'.format(val))\n",
    "\n",
    "cadena = 'cadena' +'C'\n",
    "print( '{}'.format(cadena))"
   ],
   "metadata": {
    "collapsed": false,
    "ExecuteTime": {
     "end_time": "2023-07-20T22:35:14.215582800Z",
     "start_time": "2023-07-20T22:35:14.163507900Z"
    }
   }
  },
  {
   "cell_type": "markdown",
   "source": [
    "# Structura de control\n",
    "* Comparar 4 números ingresados por teclado"
   ],
   "metadata": {
    "collapsed": false
   }
  },
  {
   "cell_type": "code",
   "execution_count": 5,
   "outputs": [
    {
     "name": "stdout",
     "output_type": "stream",
     "text": [
      "el num1 19 es el mayor\n",
      "el num3 1 es el mayor\n"
     ]
    }
   ],
   "source": [
    "num1 = int(input(\"ingrese  número\"))\n",
    "num2 = int(input(\"ingrese  número\"))\n",
    "num3 = int(input(\"ingrese 1 número\"))\n",
    "\n",
    "if num1>num2 and num1>num3:\n",
    "    print('el num1 {} es el mayor'.format(num1))\n",
    "if num2>num1 and num2>num3:\n",
    "    print('el num2 {} es el mayor'.format(num2))\n",
    "else: print('el num3 {} es el mayor'.format(num3))"
   ],
   "metadata": {
    "collapsed": false,
    "ExecuteTime": {
     "end_time": "2023-07-20T22:35:21.185202Z",
     "start_time": "2023-07-20T22:35:14.180675200Z"
    }
   }
  },
  {
   "cell_type": "markdown",
   "source": [
    "* Lista [ramdom]"
   ],
   "metadata": {
    "collapsed": false
   }
  },
  {
   "cell_type": "code",
   "execution_count": 6,
   "outputs": [
    {
     "name": "stdout",
     "output_type": "stream",
     "text": [
      "1\n",
      "chevrolet\n"
     ]
    }
   ],
   "source": [
    "import random\n",
    "marca = ('toyota','chevrolet','mazda','datsun','haval','kia','wolsvaguen','nissan','bemtli')\n",
    "aleatorio = random.randint(0,8)\n",
    "\n",
    "print(aleatorio)\n",
    "print(marca[aleatorio])"
   ],
   "metadata": {
    "collapsed": false,
    "ExecuteTime": {
     "end_time": "2023-07-20T22:35:21.191183600Z",
     "start_time": "2023-07-20T22:35:21.178220700Z"
    }
   }
  }
 ],
 "metadata": {
  "kernelspec": {
   "display_name": "Python 3",
   "language": "python",
   "name": "python3"
  },
  "language_info": {
   "codemirror_mode": {
    "name": "ipython",
    "version": 2
   },
   "file_extension": ".py",
   "mimetype": "text/x-python",
   "name": "python",
   "nbconvert_exporter": "python",
   "pygments_lexer": "ipython2",
   "version": "2.7.6"
  }
 },
 "nbformat": 4,
 "nbformat_minor": 0
}
