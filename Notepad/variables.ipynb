{
 "cells": [
  {
   "cell_type": "markdown",
   "source": [
    "# Examples code,general review python"
   ],
   "metadata": {
    "collapsed": false
   }
  },
  {
   "cell_type": "code",
   "execution_count": null,
   "outputs": [],
   "source": [
    "dato_ced = input(\"Ingrese cedula\")\n",
    "print(dato_ced)\n",
    "print(type(dato_ced))\n",
    "print(type(int(dato_ced)))"
   ],
   "metadata": {
    "collapsed": false
   }
  },
  {
   "cell_type": "markdown",
   "source": [
    "* Variable booleana"
   ],
   "metadata": {
    "collapsed": false
   }
  },
  {
   "cell_type": "code",
   "execution_count": null,
   "outputs": [],
   "source": [
    "data = ('One' == 'Ones')\n",
    "print(format(data))\n",
    "print(type(data))"
   ],
   "metadata": {
    "collapsed": false
   }
  },
  {
   "cell_type": "markdown",
   "source": [
    "* Comparación"
   ],
   "metadata": {
    "collapsed": false
   }
  },
  {
   "cell_type": "code",
   "execution_count": null,
   "outputs": [],
   "source": [
    "val = 7 > 50\n",
    "print('{}'.format(val))\n",
    "\n",
    "cadena = 'cadena' + 'C'\n",
    "print('{}'.format(cadena))"
   ],
   "metadata": {
    "collapsed": false
   }
  },
  {
   "cell_type": "markdown",
   "source": [
    "# Structura de control\n",
    "* Comparar 4 números ingresados por teclado"
   ],
   "metadata": {
    "collapsed": false
   }
  },
  {
   "cell_type": "code",
   "execution_count": null,
   "outputs": [],
   "source": [
    "num1 = int(input(\"ingrese  número\"))\n",
    "num2 = int(input(\"ingrese  número\"))\n",
    "num3 = int(input(\"ingrese 1 número\"))\n",
    "\n",
    "if num1 > num2 and num1 > num3:\n",
    "    print('el num1 {} es el mayor'.format(num1))\n",
    "if num2 > num1 and num2 > num3:\n",
    "    print('el num2 {} es el mayor'.format(num2))\n",
    "else:\n",
    "    print('el num3 {} es el mayor'.format(num3))"
   ],
   "metadata": {
    "collapsed": false
   }
  },
  {
   "cell_type": "markdown",
   "source": [
    "* Lista [ramdom]"
   ],
   "metadata": {
    "collapsed": false
   }
  },
  {
   "cell_type": "code",
   "execution_count": null,
   "outputs": [],
   "source": [
    "import random\n",
    "\n",
    "marca = ('toyota', 'chevrolet', 'mazda', 'datsun', 'haval', 'kia', 'wolsvaguen', 'nissan', 'bemtli')\n",
    "aleatorio = random.randint(0, 8)\n",
    "\n",
    "print(aleatorio)\n",
    "print(marca[aleatorio])"
   ],
   "metadata": {
    "collapsed": false
   }
  },
  {
   "cell_type": "markdown",
   "source": [
    "* Matriz"
   ],
   "metadata": {
    "collapsed": false
   }
  },
  {
   "cell_type": "code",
   "execution_count": null,
   "outputs": [],
   "source": [
    "\n",
    "import numpy as np\n",
    "\n",
    "#matriz cuadrada de 4x4\n",
    "n = 4\n",
    "\n",
    "matrix = np.random.randint(0, 10, size=(n, n))\n",
    "print(matrix)\n",
    "print(matrix[3, 3])"
   ],
   "metadata": {
    "collapsed": false
   }
  },
  {
   "cell_type": "code",
   "execution_count": null,
   "outputs": [],
   "source": [
    "import numpy as np\n",
    "\n",
    "# Definir el tamaño de la matriz cuadrada (por ejemplo, 3x3)\n",
    "n = 3\n",
    "\n",
    "# Crear una matriz cuadrada con números aleatorios en el rango [0, 9] utilizando NumPy\n",
    "matrix = np.random.randint(0, 10, size=(n, n))\n",
    "\n",
    "# Imprimir la matriz\n",
    "print(matrix)\n"
   ],
   "metadata": {
    "collapsed": false
   }
  },
  {
   "cell_type": "markdown",
   "source": [
    "* Lista de palabras\n"
   ],
   "metadata": {
    "collapsed": false
   }
  },
  {
   "cell_type": "code",
   "execution_count": null,
   "outputs": [],
   "source": [
    "palabras = ['hoy', 'ball', 'arena', 'sun', 'dogs', 'game', 'energy', 'led', 'motorcicly', 'dogs', 'science', 'sun']\n",
    "agregar = \"bears\"\n",
    "palabras.append(agregar)\n",
    "print(palabras)\n",
    "palabras.sort()\n",
    "print(palabras)\n"
   ],
   "metadata": {
    "collapsed": false
   }
  },
  {
   "cell_type": "markdown",
   "source": [
    "* Eliminar palabras repetidas"
   ],
   "metadata": {
    "collapsed": false
   }
  },
  {
   "cell_type": "code",
   "execution_count": null,
   "outputs": [],
   "source": [
    "\n",
    "noRepetidas = list(set(palabras))\n",
    "print(noRepetidas)"
   ],
   "metadata": {
    "collapsed": false
   }
  },
  {
   "cell_type": "markdown",
   "source": [
    "* Eliminar NA y \"\""
   ],
   "metadata": {
    "collapsed": false
   }
  },
  {
   "cell_type": "code",
   "execution_count": null,
   "outputs": [],
   "source": [
    "import pandas as pd\n",
    "\n",
    "# Ejemplo de DataFrame con valores NA\n",
    "data = {'A': [10, 2, None, 4, 5, None, \"\"],\n",
    "        'B': [None, 6, 2, 3, None, 5, \"\"],\n",
    "        'C': [1, 2, None, 3, 4, 5, \"\"]}\n",
    "\n",
    "df = pd.DataFrame(data)\n",
    "df.replace(\"\", float(\"nan\"), inplace=True)\n",
    "print(df)\n",
    "df.fillna(0, inplace=True)\n",
    "print(df)"
   ],
   "metadata": {
    "collapsed": false
   }
  },
  {
   "cell_type": "markdown",
   "source": [],
   "metadata": {
    "collapsed": false
   }
  },
  {
   "cell_type": "markdown",
   "source": [
    "* Index"
   ],
   "metadata": {
    "collapsed": false
   }
  },
  {
   "cell_type": "code",
   "execution_count": null,
   "outputs": [],
   "source": [
    "numer = [5, 8, 10, 12, 10, 7, 3, 5, 1, 17]\n",
    "ind = numer.index(5)\n",
    "print(ind)\n",
    "numer.reverse()\n",
    "print(format(numer))\n",
    "numer.remove(10)\n",
    "print(format(numer))\n",
    "df = pd.DataFrame(numer)\n",
    "print(f'valor maximo: ', df.max().max())\n",
    "print(f'valor minimo: ', df.min().min())"
   ],
   "metadata": {
    "collapsed": false
   }
  },
  {
   "cell_type": "markdown",
   "source": [
    "# Python Funciones  Modules\n",
    "* Calculo del área del circulo, dado r\n"
   ],
   "metadata": {
    "collapsed": false
   }
  },
  {
   "cell_type": "code",
   "execution_count": null,
   "outputs": [],
   "source": [
    "\n",
    "import math\n",
    "\n",
    "\n",
    "#radio = int(input(\"Ingrese valor del radio\"))\n",
    "\n",
    "def area_circulo(radio):\n",
    "    area = math.pi * radio ** 2\n",
    "    return area\n",
    "\n",
    "\n",
    "print(area_circulo(2))\n"
   ],
   "metadata": {
    "collapsed": false
   }
  },
  {
   "cell_type": "code",
   "execution_count": null,
   "outputs": [],
   "source": [
    "def jj(album, year):\n",
    "    inf = f\"El primer disco {album} y fue en {year}\"\n",
    "    return inf\n",
    "\n",
    "\n",
    "salida = jj(\"Nuestro Juramento\", \"1954\")\n",
    "\n",
    "print(salida)\n",
    "\n"
   ],
   "metadata": {
    "collapsed": false
   }
  },
  {
   "cell_type": "markdown",
   "source": [
    "* Especial sintacis  * args"
   ],
   "metadata": {
    "collapsed": false
   }
  },
  {
   "cell_type": "code",
   "execution_count": null,
   "outputs": [],
   "source": [
    "def add_num(*args):\n",
    "    for j in args:\n",
    "        print(j)\n",
    "\n",
    "\n",
    "add_num(1, 2, 3, 6, 9.5, 'a')\n"
   ],
   "metadata": {
    "collapsed": false
   }
  },
  {
   "cell_type": "markdown",
   "source": [
    "* Modules can be thoght as a collection of funtions"
   ],
   "metadata": {
    "collapsed": false
   }
  },
  {
   "cell_type": "markdown",
   "source": [],
   "metadata": {
    "collapsed": false
   }
  },
  {
   "cell_type": "code",
   "execution_count": null,
   "outputs": [],
   "source": [
    "\n",
    "from random import randint\n",
    "\n",
    "for i in range(6):\n",
    "    num = randint(0, 8)\n",
    "    print(num)\n"
   ],
   "metadata": {
    "collapsed": false
   }
  },
  {
   "cell_type": "markdown",
   "source": [
    "* Instalar para interactuar con !pip install google-api-python-client"
   ],
   "metadata": {
    "collapsed": false
   }
  },
  {
   "cell_type": "code",
   "execution_count": null,
   "outputs": [],
   "source": [
    "##!pip install google-api-python-client"
   ],
   "metadata": {
    "collapsed": false
   }
  },
  {
   "cell_type": "markdown",
   "source": [
    "* Esepciones"
   ],
   "metadata": {
    "collapsed": false
   }
  },
  {
   "cell_type": "code",
   "execution_count": null,
   "outputs": [],
   "source": [
    "def add_num(n1, n2):\n",
    "    resultado = None  # Valor predeterminado antes del bloque try\n",
    "    try:\n",
    "        resultado = n1 + n2\n",
    "    except TypeError as e:\n",
    "        resultado = f\"error, solo se acepta números : {e}\"\n",
    "    finally:\n",
    "        print(\"Finalizando el bloque try - except\")\n",
    "        return resultado\n",
    "\n",
    "\n",
    "resultado1 = add_num(7, 2)\n",
    "print(\"Resultado 1:\", resultado1)\n",
    "resultado2 = add_num(\"6\", 2)\n",
    "print(\"Resultado 2:\", resultado2)\n"
   ],
   "metadata": {
    "collapsed": false
   }
  },
  {
   "cell_type": "markdown",
   "source": [
    "# File Handling"
   ],
   "metadata": {
    "collapsed": false
   }
  },
  {
   "cell_type": "code",
   "execution_count": null,
   "outputs": [],
   "source": [
    "ruta = \"C:\\Repositorio Python\\Dashboards\\WordsMatriz\\palabras\\Lokera.txt\"\n",
    "try:\n",
    "    with open(ruta, \"r\") as archivo:\n",
    "        contenido = archivo.read()\n",
    "        print(contenido)\n",
    "except FileNotFoundError:\n",
    "    print(f\"El archivo '{ruta}' no fue encontrado.\")"
   ],
   "metadata": {
    "collapsed": false
   }
  },
  {
   "cell_type": "code",
   "execution_count": null,
   "outputs": [],
   "source": [
    "my_file = open(ruta, \"w\")\n",
    "linea = ['Canción producida en el estilo del reguetón 2023\\n', 'Latina']\n",
    "my_file.writelines(linea)\n",
    "my_file.close()\n",
    "my_file = open(ruta, \"r\")\n",
    "letraMusica = my_file.read()\n",
    "print(letraMusica)\n",
    "my_file.close()"
   ],
   "metadata": {
    "collapsed": false
   }
  },
  {
   "cell_type": "code",
   "execution_count": null,
   "outputs": [],
   "source": [
    "ruta = \"C:\\Repositorio Python\\Dashboards\\WordsMatriz\\palabras\\lokera.txt\"\n",
    "\n",
    "with open(ruta, 'r') as lib:\n",
    "    print(lib.read())"
   ],
   "metadata": {
    "collapsed": false
   }
  },
  {
   "cell_type": "markdown",
   "source": [
    "# Diccionario clave | valor"
   ],
   "metadata": {
    "collapsed": false
   }
  },
  {
   "cell_type": "code",
   "execution_count": null,
   "outputs": [],
   "source": [
    "frutas_precio = {\n",
    "    \"manzana\": 1.5,\n",
    "    \"banana\": 1.8,\n",
    "    \"naranja\": 1.0,\n",
    "    \"pina\": 2.5,\n",
    "    \"uva\": 2.25\n",
    "}\n",
    "print(\"precio de la manzana:\", frutas_precio[\"manzana\"])\n",
    "print(f\"precio de las uvas '{frutas_precio['uva']}'\")\n",
    "frutas_precio['guanabana'] = 3.50\n",
    "print(frutas_precio)\n",
    "#Eliminar un elemento del diccionario\n",
    "del frutas_precio[\"banana\"]\n",
    "print(frutas_precio)\n",
    "frutas_precio[\"oritos\"] = .25\n",
    "print(frutas_precio)\n",
    "\n",
    "# Verificar si una clave existe en el diccionario\n",
    "if \"oritos\" in frutas_precio:\n",
    "    print(\"oritos esta en la lista\")\n",
    "else:\n",
    "    print(f\"Oritos no esta en la lista '{frutas_precio['oritos']}'\")\n",
    "frutas_precio[\"papaya\"] = 2, 10\n",
    "frutas_precio[\"tomate\"] = 0, 50\n",
    "# Recorrer la lista\n",
    "print(\"D I C C I O N A R I O\")\n",
    "for fruta, precio in frutas_precio.items():\n",
    "    print(f\"'{fruta}: {precio}'\")"
   ],
   "metadata": {
    "collapsed": false
   }
  },
  {
   "cell_type": "markdown",
   "source": [
    "* List Slices\n"
   ],
   "metadata": {
    "collapsed": false
   }
  },
  {
   "cell_type": "code",
   "execution_count": null,
   "outputs": [],
   "source": [
    "cuadrado = [0, 1, 4, 9, 16, 25, 36, 49, 64, 81]\n",
    "print(cuadrado[1:8:3])"
   ],
   "metadata": {
    "collapsed": false
   }
  },
  {
   "cell_type": "markdown",
   "source": [
    "List Comprehension"
   ],
   "metadata": {
    "collapsed": false
   }
  },
  {
   "cell_type": "code",
   "execution_count": null,
   "outputs": [],
   "source": [
    " square_ = [a * a for a in range(1, 7, 1)]\n",
    "print(square_)\n",
    "\n"
   ],
   "metadata": {
    "collapsed": false
   }
  },
  {
   "cell_type": "markdown",
   "source": [
    "* Números parese de una lista"
   ],
   "metadata": {
    "collapsed": false
   }
  },
  {
   "cell_type": "code",
   "execution_count": null,
   "outputs": [],
   "source": [
    "#nueva_lista = [expresion for elemento in secuencia if condicion]\n",
    "\n",
    "numeritos = [1, 2, 3, 4, 5, 6, 7, 8, 102]\n",
    "pares = [j for j in numeritos if j % 2 == 0]\n",
    "print(pares)"
   ],
   "metadata": {
    "collapsed": false
   }
  },
  {
   "cell_type": "code",
   "execution_count": null,
   "outputs": [],
   "source": [
    "def es_vocal(letra):\n",
    "    vocales = \"aeiouAEIOU\"\n",
    "    return letra in vocales\n",
    "\n",
    "\n",
    "lista_palabras = [\"python\", \"es\", \"genial\", \"perro\", \"gato\", \"casa\", \"coche\"]\n",
    "\n",
    "# Filtrar las palabras que terminan en vocal\n",
    "palabras_terminadas_en_vocal = [palabra for palabra in lista_palabras if es_vocal(palabra[-1])]\n",
    "\n",
    "print(palabras_terminadas_en_vocal)\n"
   ],
   "metadata": {
    "collapsed": false
   }
  },
  {
   "cell_type": "code",
   "execution_count": null,
   "outputs": [],
   "source": [
    "lista_palabras = [\"python\", \"es\", \"genial\", \"perro\", \"gato\", \"casa\", \"coche\"]\n",
    "\n",
    "# Filtrar las palabras que terminan en 'a'\n",
    "palabras_terminadas_en_a = [palabra for palabra in lista_palabras if palabra.endswith('a')]\n",
    "\n",
    "print(palabras_terminadas_en_a)\n"
   ],
   "metadata": {
    "collapsed": false
   }
  },
  {
   "cell_type": "code",
   "execution_count": null,
   "outputs": [],
   "source": [
    "!pip install nltk"
   ],
   "metadata": {
    "collapsed": false
   }
  },
  {
   "cell_type": "markdown",
   "source": [
    "* Palabras terminadas de una vocal"
   ],
   "metadata": {
    "collapsed": false
   }
  },
  {
   "cell_type": "code",
   "execution_count": null,
   "outputs": [],
   "source": [
    "\n",
    "ruta_archivo_txt = \"C:\\Repositorio Python\\Dashboards\\WordsMatriz\\palabras\\eruda.txt\"\n",
    "\n",
    "# Leer el contenido del archivo\n",
    "with open(ruta_archivo_txt, 'r', encoding='utf-8') as archivo:\n",
    "    contenido = archivo.read()\n",
    "\n",
    "# Separar el contenido en palabras (utilizamos split para dividir por espacios)\n",
    "palabras = contenido.split()\n",
    "\n",
    "# Filtrar las palabras que terminan con la vocal \"a\" (ignoramos mayúsculas y minúsculas)\n",
    "palabras_terminadas_en_a = [palabra for palabra in palabras if palabra.lower().endswith('a')]\n",
    "\n",
    "# Imprimir las palabras encontradas\n",
    "print(palabras_terminadas_en_a)\n"
   ],
   "metadata": {
    "collapsed": false
   }
  },
  {
   "cell_type": "markdown",
   "source": [
    "* Convertir archivo a csv"
   ],
   "metadata": {
    "collapsed": false
   }
  },
  {
   "cell_type": "markdown",
   "source": [],
   "metadata": {
    "collapsed": false
   }
  },
  {
   "cell_type": "markdown",
   "source": [
    "* Elimiar commilas del texto .txt"
   ],
   "metadata": {
    "collapsed": false
   }
  },
  {
   "cell_type": "code",
   "execution_count": null,
   "outputs": [],
   "source": [
    "\n",
    "ruta_archivo_txt = \"C:\\Repositorio Python\\Dashboards\\WordsMatriz\\palabras\\Rene.txt\"\n",
    "# Leer el contenido del archivo\n",
    "with open(ruta_archivo_txt, 'r', encoding='utf-8') as archivo:\n",
    "    contenido = archivo.read()\n",
    "\n",
    "# Reemplazar el carácter especial '’' con un espacio en blanco (o eliminar cualquier otro carácter no deseado)\n",
    "contenido_modificado = contenido.replace('’', '')\n",
    "\n",
    "# Guardar el contenido modificado en el mismo archivo\n",
    "with open(ruta_archivo_txt, 'w') as archivo:\n",
    "    archivo.write(contenido_modificado)\n",
    "\n",
    "print(\"Carácter especial eliminado del archivo.\")\n"
   ],
   "metadata": {
    "collapsed": false
   }
  },
  {
   "cell_type": "code",
   "execution_count": null,
   "outputs": [],
   "source": [
    "ruta_archivo_txt = \"C:\\Repositorio Python\\Dashboards\\WordsMatriz\\palabras\\Rene.txt\"\n",
    "\n",
    "# Leer el contenido del archivo\n",
    "with open(ruta_archivo_txt, 'r') as archivo:\n",
    "    contenido_original = archivo.read()\n",
    "\n",
    "# Eliminar los saltos de línea de la cadena de texto\n",
    "contenido_modificado = contenido_original.replace('\\n', '')\n",
    "\n",
    "# Sobrescribir el contenido del archivo con el contenido modificado\n",
    "with open(ruta_archivo_txt, 'w') as archivo:\n",
    "    archivo.write(contenido_modificado)\n",
    "\n",
    "print(\"Cambios guardados correctamente en el archivo.\")\n"
   ],
   "metadata": {
    "collapsed": false
   }
  },
  {
   "cell_type": "markdown",
   "source": [
    "* Formato de string"
   ],
   "metadata": {
    "collapsed": false
   }
  },
  {
   "cell_type": "code",
   "execution_count": null,
   "outputs": [],
   "source": [
    "num = [1, 2, 3]\n",
    "salida = \"los numeros de salida {a},{b},{c}\".format(c=num[2], a=num[0], b=num[1])\n",
    "print(salida)"
   ],
   "metadata": {
    "collapsed": false
   }
  },
  {
   "cell_type": "code",
   "execution_count": null,
   "outputs": [],
   "source": [
    "str = \", \".join([\"life\", \"is\", \"buena\"])\n",
    "print(str)\n",
    "str = \"life es buena\".replace(\"buena\", 'exelente')\n",
    "print(str)\n",
    "bool = \"hola mundo, hi python , te veo pantalon\".endswith(\"on\")\n",
    "lista = \"san,leo,juan,diseno,capeon\".split(',')\n",
    "print(lista)\n"
   ],
   "metadata": {
    "collapsed": false
   }
  },
  {
   "cell_type": "markdown",
   "source": [
    "* Funciones numéricas"
   ],
   "metadata": {
    "collapsed": false
   }
  },
  {
   "cell_type": "code",
   "execution_count": null,
   "outputs": [],
   "source": [
    "import pandas as pd\n",
    "\n",
    "lista_nm = [2, 4, 6, 8, 20, 12, 14, 16, 28, 22]\n",
    "cantidad = [19, 14, 26, 28, 20, 12, 14, 16, 28, 22]\n",
    "print(max(lista_nm))\n",
    "print(min(lista_nm))\n",
    "df = pd.DataFrame({'valores': lista_nm})\n",
    "\n",
    "media_resultado = df['valores'].mean()\n",
    "\n",
    "print(\"La media es:\", media_resultado)"
   ],
   "metadata": {
    "collapsed": false
   }
  },
  {
   "cell_type": "code",
   "execution_count": null,
   "outputs": [],
   "source": [
    "lista = [1, 3, 4, 5, 6, 0]\n",
    "print(all(lista))\n",
    "s = \"quito, es frio en verano\"\n",
    "print(all(s))"
   ],
   "metadata": {
    "collapsed": false
   }
  },
  {
   "cell_type": "markdown",
   "source": [
    "* Enumerar funciones"
   ],
   "metadata": {
    "collapsed": false
   }
  },
  {
   "cell_type": "code",
   "execution_count": null,
   "outputs": [],
   "source": [
    "nums = [4, 8, 13, 16, 17, 18, 19, 20]\n",
    "for j in enumerate(nums):\n",
    "    print(j)"
   ],
   "metadata": {
    "collapsed": false
   }
  },
  {
   "cell_type": "code",
   "execution_count": null,
   "outputs": [],
   "source": [
    "# Programación Orientada a objetos"
   ],
   "metadata": {
    "collapsed": false
   }
  },
  {
   "cell_type": "code",
   "execution_count": null,
   "outputs": [],
   "source": [
    "class Persona:\n",
    "    # Método constructor para inicializar los atributos de la clase\n",
    "    def __init__(self, nombre, edad):\n",
    "        self.nombre = nombre\n",
    "        self.edad = edad\n",
    "\n",
    "    # Método para obtener la información de la persona\n",
    "    def obtener_informacion(self):\n",
    "        return f\"Nombre: {self.nombre}, Edad: {self.edad}\"\n",
    "\n",
    "\n",
    "# Crear una instancia de la clase Persona\n",
    "persona1 = Persona(\"Juliana\", 30)\n",
    "\n",
    "# Acceder a los atributos y métodos de la instancia\n",
    "print(persona1.obtener_informacion())  # Salida: \"Nombre: Juan, Edad: 30\"\n",
    "print(persona1.nombre, persona1.edad)"
   ],
   "metadata": {
    "collapsed": false
   }
  },
  {
   "cell_type": "markdown",
   "source": [
    "# Clases que pueden tener metodos"
   ],
   "metadata": {
    "collapsed": false
   }
  },
  {
   "cell_type": "code",
   "execution_count": null,
   "outputs": [],
   "source": [
    "class Escritor:\n",
    "    # Método constructor para inicializar los atributos de la clase\n",
    "    def __init__(self, nombre, pais):\n",
    "        self.autor = nombre\n",
    "        self.countri = pais\n",
    "\n",
    "    # métdo para optener infprmacion\n",
    "    def Detalle(self):\n",
    "        print('autor :{}, país de origren : {}'.format(self.autor, self.countri))\n",
    "\n",
    "\n",
    "instancia_Es = Escritor('Pablo', 'colombia')\n",
    "instancia_Es.countri\n",
    "instancia_Es.Detalle()\n",
    "ecuador_autor = Escritor(\"Julio J\", 'Ecuador')\n",
    "print(\"El cantautor ecuatoriano\", ecuador_autor.autor)"
   ],
   "metadata": {
    "collapsed": false
   }
  },
  {
   "cell_type": "markdown",
   "source": [
    "# Herencia"
   ],
   "metadata": {
    "collapsed": false
   }
  },
  {
   "cell_type": "code",
   "execution_count": 86,
   "outputs": [
    {
     "name": "stdout",
     "output_type": "stream",
     "text": [
      " nombe: Audi man,pais: Guayaquil, genero: rapero\n"
     ]
    }
   ],
   "source": [
    "class Cantantes:\n",
    "    #constructor\n",
    "    def __init__(self, nombre, pais):\n",
    "        self.latino = pais\n",
    "        self.nomArtista = nombre\n",
    "        #Método\n",
    "\n",
    "    def Detalle(self):\n",
    "        print('autor :{}, país de origren : {}'.format(self.latino, self.nomArtista))\n",
    "\n",
    "\n",
    "class Audi(Cantantes):\n",
    "    # Constructor con herencia\n",
    "    def __init__(self, nombre, pais, detalles):\n",
    "        Cantantes.__init__(self, nombre, pais)\n",
    "        self.detalle = detalles\n",
    "        #Método mostrar detalle artista\n",
    "\n",
    "    def mostrar_detalle(self):\n",
    "        print(' nombe: {},pais: {}, genero: {}'.format(self.nomArtista, self.latino, self.detalle))\n",
    "\n",
    "\n",
    "#crear una instancia de la clase Audi; creo el objeto\n",
    "disco = Audi(\"Audi man\", 'Guayaquil', 'rapero')\n",
    "# al instancer la clase Ya podemos acceder a sus metodos\n",
    "disco.mostrar_detalle()"
   ],
   "metadata": {
    "collapsed": false,
    "ExecuteTime": {
     "end_time": "2023-07-27T22:31:19.254685100Z",
     "start_time": "2023-07-27T22:31:19.236730700Z"
    }
   }
  },
  {
   "cell_type": "markdown",
   "source": [
    "* Método magico"
   ],
   "metadata": {
    "collapsed": false
   }
  },
  {
   "cell_type": "code",
   "execution_count": 90,
   "outputs": [
    {
     "name": "stdout",
     "output_type": "stream",
     "text": [
      "22 46\n"
     ]
    }
   ],
   "source": [
    "class MegaNumero:\n",
    "    #constructor\n",
    "    def __init__(self, x, y):\n",
    "        self.x = x\n",
    "        self.y = y\n",
    "#Método agregar argumento\n",
    "    def __add__(self, otromeganumero):\n",
    "        return MegaNumero(self.x + otromeganumero.x, self.y + otromeganumero.y)\n",
    "\n",
    "firs = MegaNumero(2, 6)\n",
    "segundo = MegaNumero(20,40)\n",
    "\n",
    "tres = firs + segundo\n",
    "\n",
    "print(tres.x,tres.y)"
   ],
   "metadata": {
    "collapsed": false,
    "ExecuteTime": {
     "end_time": "2023-07-27T22:41:34.970130500Z",
     "start_time": "2023-07-27T22:41:34.909674400Z"
    }
   }
  },
  {
   "cell_type": "markdown",
   "source": [
    "* Object data hiding - weak method"
   ],
   "metadata": {
    "collapsed": false
   }
  },
  {
   "cell_type": "code",
   "execution_count": 97,
   "outputs": [
    {
     "name": "stdout",
     "output_type": "stream",
     "text": [
      "nombre: Beker,país : Poemas de verano\n",
      "Poemas de verano\n"
     ]
    }
   ],
   "source": [
    "class Escritores:\n",
    "    # inicializo el constructor\n",
    "    def __init__(self,nombre, pais):\n",
    "        self.name= nombre\n",
    "        self.country=pais\n",
    "\n",
    "    def Metodo(self):\n",
    "        str = \"nombre: {},país : {}\".format(self.name,self.country)\n",
    "        return str\n",
    "\n",
    "instancia_clase= Escritores(\"Beker\", \"Poemas de verano\")\n",
    "print(instancia_clase.Metodo())\n",
    "print(instancia_clase.country)"
   ],
   "metadata": {
    "collapsed": false,
    "ExecuteTime": {
     "end_time": "2023-07-28T01:59:32.327717Z",
     "start_time": "2023-07-28T01:59:32.272976900Z"
    }
   }
  },
  {
   "cell_type": "markdown",
   "source": [
    "* Clase y método estático"
   ],
   "metadata": {
    "collapsed": false
   }
  },
  {
   "cell_type": "code",
   "execution_count": 99,
   "outputs": [
    {
     "name": "stdout",
     "output_type": "stream",
     "text": [
      "11\n",
      "-65\n"
     ]
    }
   ],
   "source": [
    "class Calculadora:\n",
    "    @staticmethod\n",
    "    def suma(a,b):\n",
    "        return a+b\n",
    "\n",
    "    def resta(a,b):\n",
    "        return  a-b\n",
    "\n",
    "#Uso del método estático\n",
    "resultado_suma =Calculadora.suma(2,9)\n",
    "resultado_resta= Calculadora.resta(90,155)\n",
    "\n",
    "print(resultado_suma)\n",
    "print(resultado_resta)\n"
   ],
   "metadata": {
    "collapsed": false,
    "ExecuteTime": {
     "end_time": "2023-07-28T02:03:13.017874800Z",
     "start_time": "2023-07-28T02:03:12.981469300Z"
    }
   }
  }
 ],
 "metadata": {
  "kernelspec": {
   "display_name": "Python 3",
   "language": "python",
   "name": "python3"
  },
  "language_info": {
   "codemirror_mode": {
    "name": "ipython",
    "version": 2
   },
   "file_extension": ".py",
   "mimetype": "text/x-python",
   "name": "python",
   "nbconvert_exporter": "python",
   "pygments_lexer": "ipython2",
   "version": "2.7.6"
  }
 },
 "nbformat": 4,
 "nbformat_minor": 0
}
