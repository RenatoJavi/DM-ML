{
  "nbformat": 4,
  "nbformat_minor": 0,
  "metadata": {
    "colab": {
      "provenance": []
    },
    "kernelspec": {
      "name": "ir",
      "display_name": "R"
    },
    "language_info": {
      "name": "R"
    }
  },
  "cells": [
    {
      "cell_type": "markdown",
      "source": [
        "**Preprocesamiento de los Datos**"
      ],
      "metadata": {
        "id": "usm5HhkA6ril"
      }
    },
    {
      "cell_type": "markdown",
      "source": [
        "1. Lectura de archivos. Limpiar los registros, guardar en un nuevo archivo .csv\n",
        "* Estacion Aotizhongxin\n"
      ],
      "metadata": {
        "id": "hrvtQZS0wRzf"
      }
    },
    {
      "cell_type": "code",
      "source": [
        "#library(dplyr)\n",
        "#library(tidyr)\n",
        "data <- read.csv(\"/content/drive/MyDrive/datos/PRSA_Data_Aotizhongxin_20130301-20170228.csv\", header = TRUE, stringsAsFactors = FALSE)\n",
        "\n",
        "datos_limpios<- data[complete.cases(data),]\n",
        "head(datos_limpios,5)\n",
        "\n",
        "# Combinar las columnas \"year\", \"month\" y \"day\" en una columna de fecha\n",
        "datos_limpios <- datos_limpios %>%\n",
        "  unite(fecha, year, month, day, sep = \"-\")\n",
        "\n",
        "\n",
        "# Guardar los datos actualizados en otro archivo CSV\n",
        "write.csv(datos_limpios, file = \"/content/drive/MyDrive/datos/registros_Aotizhongxin.csv\", row.names = FALSE)\n",
        "\n",
        "# Confirmar que se ha guardado correctamente\n",
        "cat(\"Los datos se han guardado en 'archivo_actualizado1.csv'\")\n",
        "\n",
        " #datos_fecha <- read.csv(\"C:/csv/archivo_actualizado1.csv\")"
      ],
      "metadata": {
        "colab": {
          "base_uri": "https://localhost:8080/",
          "height": 272
        },
        "id": "qST4tVC7wayH",
        "outputId": "271377d8-cddc-481e-eb22-e06ab3ab6be9"
      },
      "execution_count": 2,
      "outputs": [
        {
          "output_type": "display_data",
          "data": {
            "text/html": [
              "<table class=\"dataframe\">\n",
              "<caption>A data.frame: 5 × 18</caption>\n",
              "<thead>\n",
              "\t<tr><th></th><th scope=col>No</th><th scope=col>year</th><th scope=col>month</th><th scope=col>day</th><th scope=col>hour</th><th scope=col>PM2.5</th><th scope=col>PM10</th><th scope=col>SO2</th><th scope=col>NO2</th><th scope=col>CO</th><th scope=col>O3</th><th scope=col>TEMP</th><th scope=col>PRES</th><th scope=col>DEWP</th><th scope=col>RAIN</th><th scope=col>wd</th><th scope=col>WSPM</th><th scope=col>station</th></tr>\n",
              "\t<tr><th></th><th scope=col>&lt;int&gt;</th><th scope=col>&lt;int&gt;</th><th scope=col>&lt;int&gt;</th><th scope=col>&lt;int&gt;</th><th scope=col>&lt;int&gt;</th><th scope=col>&lt;dbl&gt;</th><th scope=col>&lt;dbl&gt;</th><th scope=col>&lt;dbl&gt;</th><th scope=col>&lt;dbl&gt;</th><th scope=col>&lt;int&gt;</th><th scope=col>&lt;dbl&gt;</th><th scope=col>&lt;dbl&gt;</th><th scope=col>&lt;dbl&gt;</th><th scope=col>&lt;dbl&gt;</th><th scope=col>&lt;dbl&gt;</th><th scope=col>&lt;chr&gt;</th><th scope=col>&lt;dbl&gt;</th><th scope=col>&lt;chr&gt;</th></tr>\n",
              "</thead>\n",
              "<tbody>\n",
              "\t<tr><th scope=row>1</th><td>1</td><td>2013</td><td>3</td><td>1</td><td>0</td><td>4</td><td>4</td><td> 4</td><td> 7</td><td>300</td><td>77</td><td>-0.7</td><td>1023.0</td><td>-18.8</td><td>0</td><td>NNW</td><td>4.4</td><td>Aotizhongxin</td></tr>\n",
              "\t<tr><th scope=row>2</th><td>2</td><td>2013</td><td>3</td><td>1</td><td>1</td><td>8</td><td>8</td><td> 4</td><td> 7</td><td>300</td><td>77</td><td>-1.1</td><td>1023.2</td><td>-18.2</td><td>0</td><td>N  </td><td>4.7</td><td>Aotizhongxin</td></tr>\n",
              "\t<tr><th scope=row>3</th><td>3</td><td>2013</td><td>3</td><td>1</td><td>2</td><td>7</td><td>7</td><td> 5</td><td>10</td><td>300</td><td>73</td><td>-1.1</td><td>1023.5</td><td>-18.2</td><td>0</td><td>NNW</td><td>5.6</td><td>Aotizhongxin</td></tr>\n",
              "\t<tr><th scope=row>4</th><td>4</td><td>2013</td><td>3</td><td>1</td><td>3</td><td>6</td><td>6</td><td>11</td><td>11</td><td>300</td><td>72</td><td>-1.4</td><td>1024.5</td><td>-19.4</td><td>0</td><td>NW </td><td>3.1</td><td>Aotizhongxin</td></tr>\n",
              "\t<tr><th scope=row>5</th><td>5</td><td>2013</td><td>3</td><td>1</td><td>4</td><td>3</td><td>3</td><td>12</td><td>12</td><td>300</td><td>72</td><td>-2.0</td><td>1025.2</td><td>-19.5</td><td>0</td><td>N  </td><td>2.0</td><td>Aotizhongxin</td></tr>\n",
              "</tbody>\n",
              "</table>\n"
            ],
            "text/markdown": "\nA data.frame: 5 × 18\n\n| <!--/--> | No &lt;int&gt; | year &lt;int&gt; | month &lt;int&gt; | day &lt;int&gt; | hour &lt;int&gt; | PM2.5 &lt;dbl&gt; | PM10 &lt;dbl&gt; | SO2 &lt;dbl&gt; | NO2 &lt;dbl&gt; | CO &lt;int&gt; | O3 &lt;dbl&gt; | TEMP &lt;dbl&gt; | PRES &lt;dbl&gt; | DEWP &lt;dbl&gt; | RAIN &lt;dbl&gt; | wd &lt;chr&gt; | WSPM &lt;dbl&gt; | station &lt;chr&gt; |\n|---|---|---|---|---|---|---|---|---|---|---|---|---|---|---|---|---|---|---|\n| 1 | 1 | 2013 | 3 | 1 | 0 | 4 | 4 |  4 |  7 | 300 | 77 | -0.7 | 1023.0 | -18.8 | 0 | NNW | 4.4 | Aotizhongxin |\n| 2 | 2 | 2013 | 3 | 1 | 1 | 8 | 8 |  4 |  7 | 300 | 77 | -1.1 | 1023.2 | -18.2 | 0 | N   | 4.7 | Aotizhongxin |\n| 3 | 3 | 2013 | 3 | 1 | 2 | 7 | 7 |  5 | 10 | 300 | 73 | -1.1 | 1023.5 | -18.2 | 0 | NNW | 5.6 | Aotizhongxin |\n| 4 | 4 | 2013 | 3 | 1 | 3 | 6 | 6 | 11 | 11 | 300 | 72 | -1.4 | 1024.5 | -19.4 | 0 | NW  | 3.1 | Aotizhongxin |\n| 5 | 5 | 2013 | 3 | 1 | 4 | 3 | 3 | 12 | 12 | 300 | 72 | -2.0 | 1025.2 | -19.5 | 0 | N   | 2.0 | Aotizhongxin |\n\n",
            "text/latex": "A data.frame: 5 × 18\n\\begin{tabular}{r|llllllllllllllllll}\n  & No & year & month & day & hour & PM2.5 & PM10 & SO2 & NO2 & CO & O3 & TEMP & PRES & DEWP & RAIN & wd & WSPM & station\\\\\n  & <int> & <int> & <int> & <int> & <int> & <dbl> & <dbl> & <dbl> & <dbl> & <int> & <dbl> & <dbl> & <dbl> & <dbl> & <dbl> & <chr> & <dbl> & <chr>\\\\\n\\hline\n\t1 & 1 & 2013 & 3 & 1 & 0 & 4 & 4 &  4 &  7 & 300 & 77 & -0.7 & 1023.0 & -18.8 & 0 & NNW & 4.4 & Aotizhongxin\\\\\n\t2 & 2 & 2013 & 3 & 1 & 1 & 8 & 8 &  4 &  7 & 300 & 77 & -1.1 & 1023.2 & -18.2 & 0 & N   & 4.7 & Aotizhongxin\\\\\n\t3 & 3 & 2013 & 3 & 1 & 2 & 7 & 7 &  5 & 10 & 300 & 73 & -1.1 & 1023.5 & -18.2 & 0 & NNW & 5.6 & Aotizhongxin\\\\\n\t4 & 4 & 2013 & 3 & 1 & 3 & 6 & 6 & 11 & 11 & 300 & 72 & -1.4 & 1024.5 & -19.4 & 0 & NW  & 3.1 & Aotizhongxin\\\\\n\t5 & 5 & 2013 & 3 & 1 & 4 & 3 & 3 & 12 & 12 & 300 & 72 & -2.0 & 1025.2 & -19.5 & 0 & N   & 2.0 & Aotizhongxin\\\\\n\\end{tabular}\n",
            "text/plain": [
              "  No year month day hour PM2.5 PM10 SO2 NO2 CO  O3 TEMP PRES   DEWP  RAIN wd \n",
              "1 1  2013 3     1   0    4     4     4   7  300 77 -0.7 1023.0 -18.8 0    NNW\n",
              "2 2  2013 3     1   1    8     8     4   7  300 77 -1.1 1023.2 -18.2 0    N  \n",
              "3 3  2013 3     1   2    7     7     5  10  300 73 -1.1 1023.5 -18.2 0    NNW\n",
              "4 4  2013 3     1   3    6     6    11  11  300 72 -1.4 1024.5 -19.4 0    NW \n",
              "5 5  2013 3     1   4    3     3    12  12  300 72 -2.0 1025.2 -19.5 0    N  \n",
              "  WSPM station     \n",
              "1 4.4  Aotizhongxin\n",
              "2 4.7  Aotizhongxin\n",
              "3 5.6  Aotizhongxin\n",
              "4 3.1  Aotizhongxin\n",
              "5 2.0  Aotizhongxin"
            ]
          },
          "metadata": {}
        },
        {
          "output_type": "stream",
          "name": "stdout",
          "text": [
            "Los datos se han guardado en 'archivo_actualizado1.csv'"
          ]
        }
      ]
    },
    {
      "cell_type": "markdown",
      "source": [
        "2. Calculos con las variables independientes, calculo de la variable de valor.\n",
        "* Estacion Aotizhongxin\n",
        "* Para los gases S02,NO2, PM10, se calcula la media aritmtica.\n",
        "* Para los gases c0 y 03 se calcula el valor maximo.\n",
        "* Calculo del AQI\n",
        "\n"
      ],
      "metadata": {
        "id": "5oeZyQy9KrhK"
      }
    },
    {
      "cell_type": "code",
      "source": [
        "datos_fecha <- read.csv(\"/content/drive/MyDrive/datos/registros_Aotizhongxin.csv\")\n",
        "\n",
        "# Calcular la media de SO2, NO2 y PM10 agrupados por día\n",
        "mean_so2 <- datos_fecha %>%   group_by(station, fecha) %>%   summarise(mean_so2 = mean(SO2), .groups= 'drop')\n",
        "\n",
        "mean_no2 <- datos_fecha %>%   group_by(station, fecha) %>%   summarise(mean_no2 = mean(NO2), .groups= 'drop')\n",
        "\n",
        "mean_pm10 <- datos_fecha %>%   group_by(station, fecha) %>%   summarise(mean_pm10 = mean(PM10), .groups= 'drop')\n",
        "\n",
        "# Calcular el valor maximo de C0, o3\n",
        "max_CO <- datos_fecha %>% group_by(station, fecha) %>% summarise(CO = max(CO), .groups= 'drop')\n",
        "max_O3 <- datos_fecha %>% group_by(station, fecha) %>% summarise(O3 = max(O3), .groups= 'drop')\n",
        "\n",
        "#...................................................\n",
        "\n",
        "calculate_AQI_component <- function(concentration, pollutant) {\n",
        "   if (pollutant == \"PM10\") {\n",
        "      breakpoints <- c(0, 54, 154, 254, 354, 424, 504, 604)\n",
        "   } else if (pollutant == \"SO2\") {\n",
        "      breakpoints <- c(0, 91.7, 196.5, 484.7, 796.48, 1582.48, 2630.48)\n",
        "   } else if (pollutant == \"NO2\") {\n",
        "      breakpoints <- c(0, 99.64, 188, 676.8, 1220.12, 2348.12, 3852.12)\n",
        "   } else if (pollutant == \"CO\") {\n",
        "      breakpoints <- c(0, 5060, 10810, 14260, 17710, 34960, 57960)\n",
        "   } else if (pollutant == \"O3\") {\n",
        "      breakpoints <- c(0, 105.84, 137.2, 166.6, 205.8, 392, 604)\n",
        "   } else {\n",
        "      return(rep(\"Invalid pollutant\", length(concentration)))\n",
        "   }\n",
        "\n",
        "   index <- c(0, 50, 100, 150, 200, 300, 400, 500)\n",
        "\n",
        "   aqi <- rep(NA, length(concentration))\n",
        "   for (i in 1:(length(breakpoints) - 1)) {\n",
        "      mask <- concentration >= breakpoints[i] & concentration <= breakpoints[i + 1]\n",
        "      aqi[mask] <- ((index[i + 1] - index[i]) / (breakpoints[i + 1] - breakpoints[i])) * (concentration[mask] - breakpoints[i]) + index[i]\n",
        "   }\n",
        "\n",
        "   aqi[is.na(aqi)] <- \"Out of range\"\n",
        "   return(round(as.numeric(aqi)))\n",
        "}\n",
        "\n",
        "#......................Calculo el evalor del AQI.............................\n",
        "\n",
        "aqi_so2 <- calculate_AQI_component(mean_so2$mean_so2, \"SO2\")\n",
        "aqi_no2 <- calculate_AQI_component(mean_no2$mean_no2, \"NO2\")\n",
        "aqi_pm10 <- calculate_AQI_component(mean_pm10$mean_pm10, \"PM10\")\n",
        "aqi_CO <- calculate_AQI_component(max_CO$CO, \"CO\")\n",
        "aqi_O3 <- calculate_AQI_component(max_O3$O3, \"O3\")\n",
        "\n",
        "\n",
        "# Crear un data frame para almacenar los resultados del AQI\n",
        "aqi_data <- data.frame( fecha = mean_so2$fecha, AQI_SO2 = aqi_so2, AQI_NO2 = aqi_no2, AQI_PM10 = aqi_pm10, AQI_CO = aqi_CO, AQI_O3 = aqi_O3 , ciudad=mean_no2$station  )\n",
        "\n",
        "# Imprimir el data frame con los resultados del AQI\n",
        "#print(aqi_data)\n",
        "\n",
        "\n",
        "\n",
        "\n",
        "df_datos <- aqi_data %>%\n",
        "  rowwise() %>%\n",
        "  mutate(AQI = max(c( AQI_PM10,AQI_SO2, AQI_NO2,AQI_CO,AQI_O3)))\n",
        " # ungroup()\n",
        "\n",
        "#write.csv(df_datos, file = \"C:/Proyecto AQI/datos/calidad_aire3.csv\", row.names = FALSE)\n",
        "\n",
        "\n",
        "\n",
        "niveles <- c(0, 50, 100, 150, 200, 250, 300, 600)\n",
        "labels <- c('Excelent', 'Good', 'Slightly Polluted', 'Lightly Polluted', 'Moderately Polluted', 'Heavily Polluted', 'Severely Polluted')\n",
        "\n",
        "aqi_data$Nivel_Aire <- cut(df_datos$AQI,breaks = niveles, labels = labels)\n",
        "\n",
        "nuevo_df <- df_datos %>%\n",
        "  mutate(Nivel_Aire = cut(AQI, breaks = niveles, labels = labels))\n",
        "\n",
        "write.csv(nuevo_df, file = \"/content/drive/MyDrive/datos/AQI_Aotizhongxin.csv\", row.names = FALSE)\n",
        "head(nuevo_df,10)\n"
      ],
      "metadata": {
        "colab": {
          "base_uri": "https://localhost:8080/",
          "height": 412
        },
        "id": "EkxeP_o21P6Z",
        "outputId": "7a35d4a3-857d-4127-8b74-4c886946903b"
      },
      "execution_count": 8,
      "outputs": [
        {
          "output_type": "display_data",
          "data": {
            "text/html": [
              "<table class=\"dataframe\">\n",
              "<caption>A rowwise_df: 10 × 9</caption>\n",
              "<thead>\n",
              "\t<tr><th scope=col>fecha</th><th scope=col>AQI_SO2</th><th scope=col>AQI_NO2</th><th scope=col>AQI_PM10</th><th scope=col>AQI_CO</th><th scope=col>AQI_O3</th><th scope=col>ciudad</th><th scope=col>AQI</th><th scope=col>Nivel_Aire</th></tr>\n",
              "\t<tr><th scope=col>&lt;chr&gt;</th><th scope=col>&lt;dbl&gt;</th><th scope=col>&lt;dbl&gt;</th><th scope=col>&lt;dbl&gt;</th><th scope=col>&lt;dbl&gt;</th><th scope=col>&lt;dbl&gt;</th><th scope=col>&lt;chr&gt;</th><th scope=col>&lt;dbl&gt;</th><th scope=col>&lt;fct&gt;</th></tr>\n",
              "</thead>\n",
              "<tbody>\n",
              "\t<tr><td>2013-10-1 </td><td> 7</td><td>36</td><td> 85</td><td>22</td><td>21</td><td>Aotizhongxin</td><td> 85</td><td>Good             </td></tr>\n",
              "\t<tr><td>2013-10-10</td><td>26</td><td>27</td><td> 92</td><td>17</td><td>21</td><td>Aotizhongxin</td><td> 92</td><td>Good             </td></tr>\n",
              "\t<tr><td>2013-10-11</td><td>18</td><td>37</td><td> 72</td><td>27</td><td>43</td><td>Aotizhongxin</td><td> 72</td><td>Good             </td></tr>\n",
              "\t<tr><td>2013-10-12</td><td> 3</td><td>41</td><td> 66</td><td>13</td><td>37</td><td>Aotizhongxin</td><td> 66</td><td>Good             </td></tr>\n",
              "\t<tr><td>2013-10-13</td><td> 4</td><td>32</td><td> 51</td><td>14</td><td>25</td><td>Aotizhongxin</td><td> 51</td><td>Good             </td></tr>\n",
              "\t<tr><td>2013-10-14</td><td> 2</td><td>24</td><td> 35</td><td>11</td><td>17</td><td>Aotizhongxin</td><td> 35</td><td>Excelent         </td></tr>\n",
              "\t<tr><td>2013-10-15</td><td> 3</td><td>25</td><td> 24</td><td> 8</td><td>25</td><td>Aotizhongxin</td><td> 25</td><td>Excelent         </td></tr>\n",
              "\t<tr><td>2013-10-16</td><td> 4</td><td>34</td><td> 64</td><td>13</td><td>29</td><td>Aotizhongxin</td><td> 64</td><td>Good             </td></tr>\n",
              "\t<tr><td>2013-10-17</td><td>12</td><td>48</td><td>108</td><td>18</td><td>26</td><td>Aotizhongxin</td><td>108</td><td>Slightly Polluted</td></tr>\n",
              "\t<tr><td>2013-10-18</td><td>22</td><td>65</td><td>150</td><td>30</td><td>11</td><td>Aotizhongxin</td><td>150</td><td>Slightly Polluted</td></tr>\n",
              "</tbody>\n",
              "</table>\n"
            ],
            "text/markdown": "\nA rowwise_df: 10 × 9\n\n| fecha &lt;chr&gt; | AQI_SO2 &lt;dbl&gt; | AQI_NO2 &lt;dbl&gt; | AQI_PM10 &lt;dbl&gt; | AQI_CO &lt;dbl&gt; | AQI_O3 &lt;dbl&gt; | ciudad &lt;chr&gt; | AQI &lt;dbl&gt; | Nivel_Aire &lt;fct&gt; |\n|---|---|---|---|---|---|---|---|---|\n| 2013-10-1  |  7 | 36 |  85 | 22 | 21 | Aotizhongxin |  85 | Good              |\n| 2013-10-10 | 26 | 27 |  92 | 17 | 21 | Aotizhongxin |  92 | Good              |\n| 2013-10-11 | 18 | 37 |  72 | 27 | 43 | Aotizhongxin |  72 | Good              |\n| 2013-10-12 |  3 | 41 |  66 | 13 | 37 | Aotizhongxin |  66 | Good              |\n| 2013-10-13 |  4 | 32 |  51 | 14 | 25 | Aotizhongxin |  51 | Good              |\n| 2013-10-14 |  2 | 24 |  35 | 11 | 17 | Aotizhongxin |  35 | Excelent          |\n| 2013-10-15 |  3 | 25 |  24 |  8 | 25 | Aotizhongxin |  25 | Excelent          |\n| 2013-10-16 |  4 | 34 |  64 | 13 | 29 | Aotizhongxin |  64 | Good              |\n| 2013-10-17 | 12 | 48 | 108 | 18 | 26 | Aotizhongxin | 108 | Slightly Polluted |\n| 2013-10-18 | 22 | 65 | 150 | 30 | 11 | Aotizhongxin | 150 | Slightly Polluted |\n\n",
            "text/latex": "A rowwise\\_df: 10 × 9\n\\begin{tabular}{lllllllll}\n fecha & AQI\\_SO2 & AQI\\_NO2 & AQI\\_PM10 & AQI\\_CO & AQI\\_O3 & ciudad & AQI & Nivel\\_Aire\\\\\n <chr> & <dbl> & <dbl> & <dbl> & <dbl> & <dbl> & <chr> & <dbl> & <fct>\\\\\n\\hline\n\t 2013-10-1  &  7 & 36 &  85 & 22 & 21 & Aotizhongxin &  85 & Good             \\\\\n\t 2013-10-10 & 26 & 27 &  92 & 17 & 21 & Aotizhongxin &  92 & Good             \\\\\n\t 2013-10-11 & 18 & 37 &  72 & 27 & 43 & Aotizhongxin &  72 & Good             \\\\\n\t 2013-10-12 &  3 & 41 &  66 & 13 & 37 & Aotizhongxin &  66 & Good             \\\\\n\t 2013-10-13 &  4 & 32 &  51 & 14 & 25 & Aotizhongxin &  51 & Good             \\\\\n\t 2013-10-14 &  2 & 24 &  35 & 11 & 17 & Aotizhongxin &  35 & Excelent         \\\\\n\t 2013-10-15 &  3 & 25 &  24 &  8 & 25 & Aotizhongxin &  25 & Excelent         \\\\\n\t 2013-10-16 &  4 & 34 &  64 & 13 & 29 & Aotizhongxin &  64 & Good             \\\\\n\t 2013-10-17 & 12 & 48 & 108 & 18 & 26 & Aotizhongxin & 108 & Slightly Polluted\\\\\n\t 2013-10-18 & 22 & 65 & 150 & 30 & 11 & Aotizhongxin & 150 & Slightly Polluted\\\\\n\\end{tabular}\n",
            "text/plain": [
              "   fecha      AQI_SO2 AQI_NO2 AQI_PM10 AQI_CO AQI_O3 ciudad       AQI\n",
              "1  2013-10-1   7      36       85      22     21     Aotizhongxin  85\n",
              "2  2013-10-10 26      27       92      17     21     Aotizhongxin  92\n",
              "3  2013-10-11 18      37       72      27     43     Aotizhongxin  72\n",
              "4  2013-10-12  3      41       66      13     37     Aotizhongxin  66\n",
              "5  2013-10-13  4      32       51      14     25     Aotizhongxin  51\n",
              "6  2013-10-14  2      24       35      11     17     Aotizhongxin  35\n",
              "7  2013-10-15  3      25       24       8     25     Aotizhongxin  25\n",
              "8  2013-10-16  4      34       64      13     29     Aotizhongxin  64\n",
              "9  2013-10-17 12      48      108      18     26     Aotizhongxin 108\n",
              "10 2013-10-18 22      65      150      30     11     Aotizhongxin 150\n",
              "   Nivel_Aire       \n",
              "1  Good             \n",
              "2  Good             \n",
              "3  Good             \n",
              "4  Good             \n",
              "5  Good             \n",
              "6  Excelent         \n",
              "7  Excelent         \n",
              "8  Good             \n",
              "9  Slightly Polluted\n",
              "10 Slightly Polluted"
            ]
          },
          "metadata": {}
        }
      ]
    },
    {
      "cell_type": "markdown",
      "source": [
        "3. Archivo consolidado de todas las estaciones a un solo archivo\n",
        "* Lectura de archivos. Limpiar los registros, guardar en un nuevo archivo.\n"
      ],
      "metadata": {
        "id": "1QaSm3Wb4Ff1"
      }
    },
    {
      "cell_type": "code",
      "source": [
        "ruta_archivo1 <- \"/content/drive/MyDrive/datos/PRSA_Data_Aotizhongxin_20130301-20170228.csv\"\n",
        "ruta_archivo2 <- \"/content/drive/MyDrive/datos/PRSA_Data_Changping_20130301-20170228.csv\"\n",
        "ruta_archivo3 <- \"/content/drive/MyDrive/datos/PRSA_Data_Dingling_20130301-20170228.csv\"\n",
        "ruta_archivo4 <- \"/content/drive/MyDrive/datos/PRSA_Data_Dongsi_20130301-20170228.csv\"\n",
        "ruta_archivo5 <- \"/content/drive/MyDrive/datos/PRSA_Data_Guanyuan_20130301-20170228.csv\"\n",
        "ruta_archivo6 <- \"/content/drive/MyDrive/datos/PRSA_Data_Gucheng_20130301-20170228.csv\"\n",
        "ruta_archivo7 <- \"/content/drive/MyDrive/datos/PRSA_Data_Huairou_20130301-20170228.csv\"\n",
        "ruta_archivo8 <- \"/content/drive/MyDrive/datos/PRSA_Data_Nongzhanguan_20130301-20170228.csv\"\n",
        "ruta_archivo9 <- \"/content/drive/MyDrive/datos/PRSA_Data_Shunyi_20130301-20170228.csv\"\n",
        "ruta_archivo10 <- \"/content/drive/MyDrive/datos/PRSA_Data_Tiantan_20130301-20170228.csv\"\n",
        "ruta_archivo11 <- \"/content/drive/MyDrive/datos/PRSA_Data_Wanliu_20130301-20170228.csv\"\n",
        "ruta_archivo12 <- \"/content/drive/MyDrive/datos/PRSA_Data_Wanshouxigong_20130301-20170228.csv\"\n",
        "\n",
        "library(dplyr)\n",
        "data_aire <- bind_rows(\n",
        "read.csv(ruta_archivo1),\n",
        "read.csv(ruta_archivo2),\n",
        "read.csv(ruta_archivo3),\n",
        "read.csv(ruta_archivo4),\n",
        "read.csv(ruta_archivo5),\n",
        "read.csv(ruta_archivo6),\n",
        "read.csv(ruta_archivo7),\n",
        "read.csv(ruta_archivo8),\n",
        "read.csv(ruta_archivo9),\n",
        "read.csv(ruta_archivo10),\n",
        "read.csv(ruta_archivo11),\n",
        "read.csv(ruta_archivo12)\n",
        ")\n",
        "\n",
        "datos_consolidados <- data_aire[complete.cases(data_aire),]\n",
        "#library(dplyr)\n",
        "library(tidyr)\n",
        "\n",
        "datos_consolidados <- datos_consolidados %>%\n",
        "  unite(fecha, year, month, day, sep = \"-\")\n",
        "\n",
        "write.csv(datos_consolidados, file = \"/content/drive/MyDrive/datos/archivo_consolidado.csv\", row.names = FALSE)\n",
        "\n",
        "cat(\"Los datos se han guardado en '/content/drive/MyDrive/datos/archivo_consolidado.csv'\")\n",
        "\n",
        " #datos_fecha <- read.csv(\"C:/csv/archivo_actualizado1.csv\")"
      ],
      "metadata": {
        "colab": {
          "base_uri": "https://localhost:8080/"
        },
        "id": "krjoUed24Heb",
        "outputId": "5f563012-ed46-4c56-e73e-d4ce31988fa2"
      },
      "execution_count": 10,
      "outputs": [
        {
          "output_type": "stream",
          "name": "stdout",
          "text": [
            "Los datos se han guardado en '/content/drive/MyDrive/datos/archivo_consolidado.csv'"
          ]
        }
      ]
    },
    {
      "cell_type": "markdown",
      "source": [
        "4. Calculo del AQI, todas las estaciones.\n",
        "* Para los gases S02,NO2, PM10, se calcula la media aritmtica.\n",
        "* Para los gases c0 y 03 se calcula el valor maximo.\n",
        "* Calculo del AQI"
      ],
      "metadata": {
        "id": "FhLIwp5_7DYJ"
      }
    },
    {
      "cell_type": "code",
      "source": [
        "datos_fecha <- read.csv(\"/content/drive/MyDrive/datos/archivo_consolidado.csv\")\n",
        "\n",
        "# Calcular la media de SO2, NO2 y PM10 agrupados por día\n",
        "mean_so2 <- datos_fecha %>%   group_by(station, fecha) %>%   summarise(mean_so2 = mean(SO2), .groups= 'drop')\n",
        "\n",
        "mean_no2 <- datos_fecha %>%   group_by(station, fecha) %>%   summarise(mean_no2 = mean(NO2), .groups= 'drop')\n",
        "\n",
        "mean_pm10 <- datos_fecha %>%   group_by(station, fecha) %>%   summarise(mean_pm10 = mean(PM10), .groups= 'drop')\n",
        "\n",
        "# Calcular el valor maximo de C0, o3\n",
        "max_CO <- datos_fecha %>% group_by(station, fecha) %>% summarise(CO = max(CO), .groups= 'drop')\n",
        "max_O3 <- datos_fecha %>% group_by(station, fecha) %>% summarise(O3 = max(O3), .groups= 'drop')\n",
        "\n",
        "#...................................................\n",
        "\n",
        "calculate_AQI_component <- function(concentration, pollutant) {\n",
        "   if (pollutant == \"PM10\") {\n",
        "      breakpoints <- c(0, 54, 154, 254, 354, 424, 504, 604)\n",
        "   } else if (pollutant == \"SO2\") {\n",
        "      breakpoints <- c(0, 91.7, 196.5, 484.7, 796.48, 1582.48, 2630.48)\n",
        "   } else if (pollutant == \"NO2\") {\n",
        "      breakpoints <- c(0, 99.64, 188, 676.8, 1220.12, 2348.12, 3852.12)\n",
        "   } else if (pollutant == \"CO\") {\n",
        "      breakpoints <- c(0, 5060, 10810, 14260, 17710, 34960, 57960)\n",
        "   } else if (pollutant == \"O3\") {\n",
        "      breakpoints <- c(0, 105.84, 137.2, 166.6, 205.8, 392, 604)\n",
        "   } else {\n",
        "      return(rep(\"Invalid pollutant\", length(concentration)))\n",
        "   }\n",
        "\n",
        "   index <- c(0, 50, 100, 150, 200, 300, 400, 500)\n",
        "\n",
        "   aqi <- rep(NA, length(concentration))\n",
        "   for (i in 1:(length(breakpoints) - 1)) {\n",
        "      mask <- concentration >= breakpoints[i] & concentration <= breakpoints[i + 1]\n",
        "      aqi[mask] <- ((index[i + 1] - index[i]) / (breakpoints[i + 1] - breakpoints[i])) * (concentration[mask] - breakpoints[i]) + index[i]\n",
        "   }\n",
        "\n",
        "   aqi[is.na(aqi)] <- \"Out of range\"\n",
        "   return(round(as.numeric(aqi)))\n",
        "}\n",
        "\n",
        "#......................Calculo el evalor del AQI.............................\n",
        "\n",
        "aqi_so2 <- calculate_AQI_component(mean_so2$mean_so2, \"SO2\")\n",
        "aqi_no2 <- calculate_AQI_component(mean_no2$mean_no2, \"NO2\")\n",
        "aqi_pm10 <- calculate_AQI_component(mean_pm10$mean_pm10, \"PM10\")\n",
        "aqi_CO <- calculate_AQI_component(max_CO$CO, \"CO\")\n",
        "aqi_O3 <- calculate_AQI_component(max_O3$O3, \"O3\")\n",
        "\n",
        "\n",
        "# Crear un data frame para almacenar los resultados del AQI\n",
        "aqi_data <- data.frame( fecha = mean_so2$fecha, AQI_SO2 = aqi_so2, AQI_NO2 = aqi_no2, AQI_PM10 = aqi_pm10, AQI_CO = aqi_CO, AQI_O3 = aqi_O3 , ciudad=mean_no2$station  )\n",
        "\n",
        "# Imprimir el data frame con los resultados del AQI\n",
        "#print(aqi_data)\n",
        "\n",
        "\n",
        "\n",
        "\n",
        "df_datos <- aqi_data %>%\n",
        "  rowwise() %>%\n",
        "  mutate(AQI = max(c( AQI_PM10,AQI_SO2, AQI_NO2,AQI_CO,AQI_O3)))\n",
        " # ungroup()\n",
        "\n",
        "#write.csv(df_datos, file = \"C:/Proyecto AQI/datos/calidad_aire3.csv\", row.names = FALSE)\n",
        "\n",
        "\n",
        "\n",
        "niveles <- c(0, 50, 100, 150, 200, 250, 300, 600)\n",
        "labels <- c('Excelent', 'Good', 'Slightly Polluted', 'Lightly Polluted', 'Moderately Polluted', 'Heavily Polluted', 'Severely Polluted')\n",
        "\n",
        "aqi_data$Nivel_Aire <- cut(df_datos$AQI,breaks = niveles, labels = labels)\n",
        "\n",
        "nuevo_df <- df_datos %>%\n",
        "  mutate(Nivel_Aire = cut(AQI, breaks = niveles, labels = labels))\n",
        "\n",
        "write.csv(nuevo_df, file = \"/content/drive/MyDrive/datos/AQI_Estaciones.csv\", row.names = FALSE)\n",
        "head(nuevo_df,10)"
      ],
      "metadata": {
        "colab": {
          "base_uri": "https://localhost:8080/",
          "height": 446
        },
        "id": "svj6lKAW7K68",
        "outputId": "b3a8afd5-4be4-4a39-8467-f475e104c4b9"
      },
      "execution_count": 11,
      "outputs": [
        {
          "output_type": "stream",
          "name": "stderr",
          "text": [
            "Warning message in calculate_AQI_component(max_O3$O3, \"O3\"):\n",
            "“NAs introduced by coercion”\n"
          ]
        },
        {
          "output_type": "display_data",
          "data": {
            "text/html": [
              "<table class=\"dataframe\">\n",
              "<caption>A rowwise_df: 10 × 9</caption>\n",
              "<thead>\n",
              "\t<tr><th scope=col>fecha</th><th scope=col>AQI_SO2</th><th scope=col>AQI_NO2</th><th scope=col>AQI_PM10</th><th scope=col>AQI_CO</th><th scope=col>AQI_O3</th><th scope=col>ciudad</th><th scope=col>AQI</th><th scope=col>Nivel_Aire</th></tr>\n",
              "\t<tr><th scope=col>&lt;chr&gt;</th><th scope=col>&lt;dbl&gt;</th><th scope=col>&lt;dbl&gt;</th><th scope=col>&lt;dbl&gt;</th><th scope=col>&lt;dbl&gt;</th><th scope=col>&lt;dbl&gt;</th><th scope=col>&lt;chr&gt;</th><th scope=col>&lt;dbl&gt;</th><th scope=col>&lt;fct&gt;</th></tr>\n",
              "</thead>\n",
              "<tbody>\n",
              "\t<tr><td>2013-10-1 </td><td> 7</td><td>36</td><td> 85</td><td>22</td><td>21</td><td>Aotizhongxin</td><td> 85</td><td>Good             </td></tr>\n",
              "\t<tr><td>2013-10-10</td><td>26</td><td>27</td><td> 92</td><td>17</td><td>21</td><td>Aotizhongxin</td><td> 92</td><td>Good             </td></tr>\n",
              "\t<tr><td>2013-10-11</td><td>18</td><td>37</td><td> 72</td><td>27</td><td>43</td><td>Aotizhongxin</td><td> 72</td><td>Good             </td></tr>\n",
              "\t<tr><td>2013-10-12</td><td> 3</td><td>41</td><td> 66</td><td>13</td><td>37</td><td>Aotizhongxin</td><td> 66</td><td>Good             </td></tr>\n",
              "\t<tr><td>2013-10-13</td><td> 4</td><td>32</td><td> 51</td><td>14</td><td>25</td><td>Aotizhongxin</td><td> 51</td><td>Good             </td></tr>\n",
              "\t<tr><td>2013-10-14</td><td> 2</td><td>24</td><td> 35</td><td>11</td><td>17</td><td>Aotizhongxin</td><td> 35</td><td>Excelent         </td></tr>\n",
              "\t<tr><td>2013-10-15</td><td> 3</td><td>25</td><td> 24</td><td> 8</td><td>25</td><td>Aotizhongxin</td><td> 25</td><td>Excelent         </td></tr>\n",
              "\t<tr><td>2013-10-16</td><td> 4</td><td>34</td><td> 64</td><td>13</td><td>29</td><td>Aotizhongxin</td><td> 64</td><td>Good             </td></tr>\n",
              "\t<tr><td>2013-10-17</td><td>12</td><td>48</td><td>108</td><td>18</td><td>26</td><td>Aotizhongxin</td><td>108</td><td>Slightly Polluted</td></tr>\n",
              "\t<tr><td>2013-10-18</td><td>22</td><td>65</td><td>150</td><td>30</td><td>11</td><td>Aotizhongxin</td><td>150</td><td>Slightly Polluted</td></tr>\n",
              "</tbody>\n",
              "</table>\n"
            ],
            "text/markdown": "\nA rowwise_df: 10 × 9\n\n| fecha &lt;chr&gt; | AQI_SO2 &lt;dbl&gt; | AQI_NO2 &lt;dbl&gt; | AQI_PM10 &lt;dbl&gt; | AQI_CO &lt;dbl&gt; | AQI_O3 &lt;dbl&gt; | ciudad &lt;chr&gt; | AQI &lt;dbl&gt; | Nivel_Aire &lt;fct&gt; |\n|---|---|---|---|---|---|---|---|---|\n| 2013-10-1  |  7 | 36 |  85 | 22 | 21 | Aotizhongxin |  85 | Good              |\n| 2013-10-10 | 26 | 27 |  92 | 17 | 21 | Aotizhongxin |  92 | Good              |\n| 2013-10-11 | 18 | 37 |  72 | 27 | 43 | Aotizhongxin |  72 | Good              |\n| 2013-10-12 |  3 | 41 |  66 | 13 | 37 | Aotizhongxin |  66 | Good              |\n| 2013-10-13 |  4 | 32 |  51 | 14 | 25 | Aotizhongxin |  51 | Good              |\n| 2013-10-14 |  2 | 24 |  35 | 11 | 17 | Aotizhongxin |  35 | Excelent          |\n| 2013-10-15 |  3 | 25 |  24 |  8 | 25 | Aotizhongxin |  25 | Excelent          |\n| 2013-10-16 |  4 | 34 |  64 | 13 | 29 | Aotizhongxin |  64 | Good              |\n| 2013-10-17 | 12 | 48 | 108 | 18 | 26 | Aotizhongxin | 108 | Slightly Polluted |\n| 2013-10-18 | 22 | 65 | 150 | 30 | 11 | Aotizhongxin | 150 | Slightly Polluted |\n\n",
            "text/latex": "A rowwise\\_df: 10 × 9\n\\begin{tabular}{lllllllll}\n fecha & AQI\\_SO2 & AQI\\_NO2 & AQI\\_PM10 & AQI\\_CO & AQI\\_O3 & ciudad & AQI & Nivel\\_Aire\\\\\n <chr> & <dbl> & <dbl> & <dbl> & <dbl> & <dbl> & <chr> & <dbl> & <fct>\\\\\n\\hline\n\t 2013-10-1  &  7 & 36 &  85 & 22 & 21 & Aotizhongxin &  85 & Good             \\\\\n\t 2013-10-10 & 26 & 27 &  92 & 17 & 21 & Aotizhongxin &  92 & Good             \\\\\n\t 2013-10-11 & 18 & 37 &  72 & 27 & 43 & Aotizhongxin &  72 & Good             \\\\\n\t 2013-10-12 &  3 & 41 &  66 & 13 & 37 & Aotizhongxin &  66 & Good             \\\\\n\t 2013-10-13 &  4 & 32 &  51 & 14 & 25 & Aotizhongxin &  51 & Good             \\\\\n\t 2013-10-14 &  2 & 24 &  35 & 11 & 17 & Aotizhongxin &  35 & Excelent         \\\\\n\t 2013-10-15 &  3 & 25 &  24 &  8 & 25 & Aotizhongxin &  25 & Excelent         \\\\\n\t 2013-10-16 &  4 & 34 &  64 & 13 & 29 & Aotizhongxin &  64 & Good             \\\\\n\t 2013-10-17 & 12 & 48 & 108 & 18 & 26 & Aotizhongxin & 108 & Slightly Polluted\\\\\n\t 2013-10-18 & 22 & 65 & 150 & 30 & 11 & Aotizhongxin & 150 & Slightly Polluted\\\\\n\\end{tabular}\n",
            "text/plain": [
              "   fecha      AQI_SO2 AQI_NO2 AQI_PM10 AQI_CO AQI_O3 ciudad       AQI\n",
              "1  2013-10-1   7      36       85      22     21     Aotizhongxin  85\n",
              "2  2013-10-10 26      27       92      17     21     Aotizhongxin  92\n",
              "3  2013-10-11 18      37       72      27     43     Aotizhongxin  72\n",
              "4  2013-10-12  3      41       66      13     37     Aotizhongxin  66\n",
              "5  2013-10-13  4      32       51      14     25     Aotizhongxin  51\n",
              "6  2013-10-14  2      24       35      11     17     Aotizhongxin  35\n",
              "7  2013-10-15  3      25       24       8     25     Aotizhongxin  25\n",
              "8  2013-10-16  4      34       64      13     29     Aotizhongxin  64\n",
              "9  2013-10-17 12      48      108      18     26     Aotizhongxin 108\n",
              "10 2013-10-18 22      65      150      30     11     Aotizhongxin 150\n",
              "   Nivel_Aire       \n",
              "1  Good             \n",
              "2  Good             \n",
              "3  Good             \n",
              "4  Good             \n",
              "5  Good             \n",
              "6  Excelent         \n",
              "7  Excelent         \n",
              "8  Good             \n",
              "9  Slightly Polluted\n",
              "10 Slightly Polluted"
            ]
          },
          "metadata": {}
        }
      ]
    },
    {
      "cell_type": "markdown",
      "source": [],
      "metadata": {
        "id": "w56va4Xg7C6w"
      }
    }
  ]
}